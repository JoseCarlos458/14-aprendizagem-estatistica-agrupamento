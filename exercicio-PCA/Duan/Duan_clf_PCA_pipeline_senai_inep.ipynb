{
 "cells": [
  {
   "cell_type": "code",
   "execution_count": 2,
   "metadata": {},
   "outputs": [],
   "source": [
    "# Manipulacao de dados e operacoes\n",
    "import pandas as pd \n",
    "import numpy as np \n",
    "from numpy import median\n",
    "from itertools import combinations\n",
    "from sklearn.model_selection import train_test_split\n",
    "import math\n",
    "\n",
    "# Visualizacao\n",
    "import matplotlib.pyplot as plt \n",
    "import seaborn as sns; sns.set()\n",
    "\n",
    "# Estatistica\n",
    "from statistics import mean \n",
    "from sklearn.metrics import mean_squared_error\n",
    "from sklearn.metrics import mean_absolute_error\n",
    "from sklearn.metrics import r2_score\n",
    "from sklearn.metrics import accuracy_score, recall_score\n",
    "from sklearn.metrics import roc_curve, roc_auc_score\n",
    "from sklearn.metrics import classification_report    # output: accuracy, f1-score, recall e precision\n",
    "from sklearn.metrics import confusion_matrix\n",
    "\n",
    "# Modelos de regressao\n",
    "from sklearn.linear_model import LinearRegression, SGDRegressor, Ridge, RidgeCV, Lasso, LassoCV\n",
    "from sklearn.model_selection import train_test_split, cross_val_score \n",
    "from sklearn.tree import DecisionTreeRegressor  \n",
    "from sklearn.neighbors import KNeighborsRegressor\n",
    "\n",
    "# Modelos de Classificação\n",
    "from sklearn.tree import DecisionTreeClassifier\n",
    "from sklearn.linear_model import SGDClassifier\n",
    "from sklearn.linear_model import RidgeClassifier\n",
    "from sklearn.linear_model import LogisticRegression\n",
    "from sklearn.naive_bayes import GaussianNB\n",
    "from sklearn.naive_bayes import MultinomialNB\n",
    "from sklearn.neighbors import KNeighborsClassifier\n",
    "from sklearn.svm import SVC\n",
    "\n",
    "# PCA\n",
    "from sklearn.decomposition import PCA\n",
    "\n",
    "# Nao-supervisionado\n",
    "from sklearn.cluster import KMeans, DBSCAN\n",
    "\n",
    "# Outras bibliotecas de modelos\n",
    "from sklearn.model_selection import GridSearchCV, RandomizedSearchCV\n",
    "from sklearn.model_selection import KFold, cross_val_score, LeaveOneOut\n",
    "from sklearn.pipeline import Pipeline, FeatureUnion, make_pipeline\n",
    "from sklearn.externals import joblib\n",
    "\n",
    "# Pre-processamento\n",
    "from sklearn.preprocessing import scale, LabelEncoder\n",
    "from sklearn.preprocessing import MinMaxScaler\n",
    "from sklearn.preprocessing import StandardScaler\n",
    "\n",
    "# Outros\n",
    "from datetime import datetime, timedelta\n",
    "from scipy.special import expit\n",
    "from scipy.io import arff\n",
    "from sklearn.datasets import fetch_olivetti_faces, make_classification\n",
    "from sklearn.datasets.samples_generator import make_blobs"
   ]
  },
  {
   "cell_type": "code",
   "execution_count": 3,
   "metadata": {},
   "outputs": [],
   "source": [
    "# Lendo a base de dados\n",
    "senai = pd.read_csv('senai_inep2.csv')\n",
    "\n",
    "# Codificando colunas categóricas\n",
    "le = LabelEncoder()\n",
    "senai['NO_IES'] = le.fit_transform(senai['NO_IES'])\n",
    "senai['NO_CURSO'] = le.fit_transform(senai['NO_IES'])\n",
    "senai['ID_ALUNO'] = le.fit_transform(senai['ID_ALUNO'])\n",
    "senai['DT_INGRESSO_CURSO'] = le.fit_transform(senai['DT_INGRESSO_CURSO'])\n",
    "\n",
    "# Separando X e y\n",
    "X = senai.drop(['TP_SITUACAO'], axis=1)\n",
    "y = senai[['TP_SITUACAO']]\n",
    "\n",
    "# Separando em treino/teste\n",
    "X_train, X_test, y_train, y_test = train_test_split(X, y, test_size=0.15)"
   ]
  },
  {
   "cell_type": "code",
   "execution_count": 10,
   "metadata": {},
   "outputs": [
    {
     "data": {
      "text/html": [
       "<div>\n",
       "<style scoped>\n",
       "    .dataframe tbody tr th:only-of-type {\n",
       "        vertical-align: middle;\n",
       "    }\n",
       "\n",
       "    .dataframe tbody tr th {\n",
       "        vertical-align: top;\n",
       "    }\n",
       "\n",
       "    .dataframe thead th {\n",
       "        text-align: right;\n",
       "    }\n",
       "</style>\n",
       "<table border=\"1\" class=\"dataframe\">\n",
       "  <thead>\n",
       "    <tr style=\"text-align: right;\">\n",
       "      <th></th>\n",
       "      <th>CO_IES</th>\n",
       "      <th>NO_IES</th>\n",
       "      <th>CO_CURSO</th>\n",
       "      <th>NO_CURSO</th>\n",
       "      <th>TP_TURNO</th>\n",
       "      <th>TP_GRAU_ACADEMICO</th>\n",
       "      <th>TP_MODALIDADE_ENSINO</th>\n",
       "      <th>ID_ALUNO</th>\n",
       "      <th>TP_COR_RACA</th>\n",
       "      <th>TP_SEXO</th>\n",
       "      <th>...</th>\n",
       "      <th>IN_DEFICIENCIA</th>\n",
       "      <th>DT_INGRESSO_CURSO</th>\n",
       "      <th>IN_RESERVA_VAGAS</th>\n",
       "      <th>IN_FINANCIAMENTO_ESTUDANTIL</th>\n",
       "      <th>IN_APOIO_SOCIAL</th>\n",
       "      <th>IN_ATIVIDADE_EXTRACURRICULAR</th>\n",
       "      <th>TP_ESCOLA_CONCLUSAO_ENS_MEDIO</th>\n",
       "      <th>IN_MATRICULA</th>\n",
       "      <th>IN_CONCLUINTE</th>\n",
       "      <th>TP_SITUACAO</th>\n",
       "    </tr>\n",
       "  </thead>\n",
       "  <tbody>\n",
       "    <tr>\n",
       "      <th>0</th>\n",
       "      <td>1400</td>\n",
       "      <td>1</td>\n",
       "      <td>20516</td>\n",
       "      <td>1</td>\n",
       "      <td>3</td>\n",
       "      <td>1</td>\n",
       "      <td>1</td>\n",
       "      <td>2519</td>\n",
       "      <td>1</td>\n",
       "      <td>1</td>\n",
       "      <td>...</td>\n",
       "      <td>0</td>\n",
       "      <td>9</td>\n",
       "      <td>0</td>\n",
       "      <td>0</td>\n",
       "      <td>0</td>\n",
       "      <td>0</td>\n",
       "      <td>1</td>\n",
       "      <td>0</td>\n",
       "      <td>0</td>\n",
       "      <td>0</td>\n",
       "    </tr>\n",
       "    <tr>\n",
       "      <th>1</th>\n",
       "      <td>1400</td>\n",
       "      <td>1</td>\n",
       "      <td>20516</td>\n",
       "      <td>1</td>\n",
       "      <td>3</td>\n",
       "      <td>1</td>\n",
       "      <td>1</td>\n",
       "      <td>1663</td>\n",
       "      <td>0</td>\n",
       "      <td>1</td>\n",
       "      <td>...</td>\n",
       "      <td>0</td>\n",
       "      <td>9</td>\n",
       "      <td>0</td>\n",
       "      <td>0</td>\n",
       "      <td>0</td>\n",
       "      <td>0</td>\n",
       "      <td>1</td>\n",
       "      <td>1</td>\n",
       "      <td>1</td>\n",
       "      <td>1</td>\n",
       "    </tr>\n",
       "    <tr>\n",
       "      <th>2</th>\n",
       "      <td>1400</td>\n",
       "      <td>1</td>\n",
       "      <td>20516</td>\n",
       "      <td>1</td>\n",
       "      <td>3</td>\n",
       "      <td>1</td>\n",
       "      <td>1</td>\n",
       "      <td>1537</td>\n",
       "      <td>2</td>\n",
       "      <td>2</td>\n",
       "      <td>...</td>\n",
       "      <td>0</td>\n",
       "      <td>18</td>\n",
       "      <td>0</td>\n",
       "      <td>0</td>\n",
       "      <td>0</td>\n",
       "      <td>0</td>\n",
       "      <td>1</td>\n",
       "      <td>1</td>\n",
       "      <td>1</td>\n",
       "      <td>1</td>\n",
       "    </tr>\n",
       "    <tr>\n",
       "      <th>3</th>\n",
       "      <td>1400</td>\n",
       "      <td>1</td>\n",
       "      <td>20516</td>\n",
       "      <td>1</td>\n",
       "      <td>3</td>\n",
       "      <td>1</td>\n",
       "      <td>1</td>\n",
       "      <td>957</td>\n",
       "      <td>0</td>\n",
       "      <td>2</td>\n",
       "      <td>...</td>\n",
       "      <td>0</td>\n",
       "      <td>2</td>\n",
       "      <td>0</td>\n",
       "      <td>0</td>\n",
       "      <td>0</td>\n",
       "      <td>0</td>\n",
       "      <td>9</td>\n",
       "      <td>0</td>\n",
       "      <td>0</td>\n",
       "      <td>1</td>\n",
       "    </tr>\n",
       "    <tr>\n",
       "      <th>4</th>\n",
       "      <td>1400</td>\n",
       "      <td>1</td>\n",
       "      <td>20516</td>\n",
       "      <td>1</td>\n",
       "      <td>3</td>\n",
       "      <td>1</td>\n",
       "      <td>1</td>\n",
       "      <td>1257</td>\n",
       "      <td>0</td>\n",
       "      <td>1</td>\n",
       "      <td>...</td>\n",
       "      <td>0</td>\n",
       "      <td>10</td>\n",
       "      <td>0</td>\n",
       "      <td>0</td>\n",
       "      <td>0</td>\n",
       "      <td>0</td>\n",
       "      <td>1</td>\n",
       "      <td>0</td>\n",
       "      <td>0</td>\n",
       "      <td>0</td>\n",
       "    </tr>\n",
       "  </tbody>\n",
       "</table>\n",
       "<p>5 rows × 22 columns</p>\n",
       "</div>"
      ],
      "text/plain": [
       "   CO_IES  NO_IES  CO_CURSO  NO_CURSO  TP_TURNO  TP_GRAU_ACADEMICO  \\\n",
       "0    1400       1     20516         1         3                  1   \n",
       "1    1400       1     20516         1         3                  1   \n",
       "2    1400       1     20516         1         3                  1   \n",
       "3    1400       1     20516         1         3                  1   \n",
       "4    1400       1     20516         1         3                  1   \n",
       "\n",
       "   TP_MODALIDADE_ENSINO  ID_ALUNO  TP_COR_RACA  TP_SEXO  ...  IN_DEFICIENCIA  \\\n",
       "0                     1      2519            1        1  ...               0   \n",
       "1                     1      1663            0        1  ...               0   \n",
       "2                     1      1537            2        2  ...               0   \n",
       "3                     1       957            0        2  ...               0   \n",
       "4                     1      1257            0        1  ...               0   \n",
       "\n",
       "   DT_INGRESSO_CURSO  IN_RESERVA_VAGAS  IN_FINANCIAMENTO_ESTUDANTIL  \\\n",
       "0                  9                 0                            0   \n",
       "1                  9                 0                            0   \n",
       "2                 18                 0                            0   \n",
       "3                  2                 0                            0   \n",
       "4                 10                 0                            0   \n",
       "\n",
       "   IN_APOIO_SOCIAL  IN_ATIVIDADE_EXTRACURRICULAR  \\\n",
       "0                0                             0   \n",
       "1                0                             0   \n",
       "2                0                             0   \n",
       "3                0                             0   \n",
       "4                0                             0   \n",
       "\n",
       "   TP_ESCOLA_CONCLUSAO_ENS_MEDIO  IN_MATRICULA  IN_CONCLUINTE  TP_SITUACAO  \n",
       "0                              1             0              0            0  \n",
       "1                              1             1              1            1  \n",
       "2                              1             1              1            1  \n",
       "3                              9             0              0            1  \n",
       "4                              1             0              0            0  \n",
       "\n",
       "[5 rows x 22 columns]"
      ]
     },
     "execution_count": 10,
     "metadata": {},
     "output_type": "execute_result"
    }
   ],
   "source": [
    "senai.head()"
   ]
  },
  {
   "cell_type": "code",
   "execution_count": 4,
   "metadata": {},
   "outputs": [
    {
     "name": "stdout",
     "output_type": "stream",
     "text": [
      "(3309, 21)\n",
      "(3309, 2)\n"
     ]
    }
   ],
   "source": [
    "pca = PCA(2)  # projecao de 21 para 2 dimensoes (colunas)\n",
    "projected = pca.fit_transform(X)\n",
    "print(X.shape)\n",
    "print(projected.shape)"
   ]
  },
  {
   "cell_type": "code",
   "execution_count": 5,
   "metadata": {
    "scrolled": true
   },
   "outputs": [
    {
     "data": {
      "image/png": "[encoded data removed]",
      "text/plain": [
       "<Figure size 432x288 with 2 Axes>"
      ]
     },
     "metadata": {},
     "output_type": "display_data"
    }
   ],
   "source": [
    "plt.scatter(projected[:, 0], projected[:, 1],\n",
    "            c=y.values.ravel(), edgecolor='none', alpha=0.5)\n",
    "plt.xlabel('component 1')\n",
    "plt.ylabel('component 2')\n",
    "plt.colorbar();"
   ]
  },
  {
   "cell_type": "markdown",
   "metadata": {},
   "source": [
    "### Escolhendo número de dimensões para PCA"
   ]
  },
  {
   "cell_type": "code",
   "execution_count": 6,
   "metadata": {
    "scrolled": false
   },
   "outputs": [
    {
     "data": {
      "image/png": "[encoded data removed]",
      "text/plain": [
       "<Figure size 432x288 with 1 Axes>"
      ]
     },
     "metadata": {},
     "output_type": "display_data"
    }
   ],
   "source": [
    "pca = PCA().fit(X)\n",
    "plt.plot(np.cumsum(pca.explained_variance_ratio_))\n",
    "plt.xlabel('number of components')\n",
    "plt.ylabel('cumulative explained variance');"
   ]
  },
  {
   "cell_type": "markdown",
   "metadata": {},
   "source": [
    "**O grafico acima mostra que a variancia estabiliza em n_components = 2.**"
   ]
  },
  {
   "cell_type": "code",
   "execution_count": 7,
   "metadata": {},
   "outputs": [],
   "source": [
    "# Codificando colunas categóricas\n",
    "le = LabelEncoder()\n",
    "senai['NO_IES'] = le.fit_transform(senai['NO_IES'])\n",
    "senai['NO_CURSO'] = le.fit_transform(senai['NO_IES'])\n",
    "senai['ID_ALUNO'] = le.fit_transform(senai['ID_ALUNO'])\n",
    "senai['DT_INGRESSO_CURSO'] = le.fit_transform(senai['DT_INGRESSO_CURSO'])\n",
    "\n",
    "# Saída a ser predita \"y\"\n",
    "X = senai.drop(['TP_SITUACAO'], axis=1)\n",
    "y = senai[['TP_SITUACAO']]"
   ]
  },
  {
   "cell_type": "code",
   "execution_count": 8,
   "metadata": {},
   "outputs": [],
   "source": [
    "X_train, X_test, y_train, y_test = train_test_split(X, y, test_size=0.15)"
   ]
  },
  {
   "cell_type": "code",
   "execution_count": 11,
   "metadata": {},
   "outputs": [
    {
     "name": "stdout",
     "output_type": "stream",
     "text": [
      "Logistic Regression pipeline test accuracy: 0.893\n",
      "KNN pipeline test accuracy: 0.893\n",
      "Decision Tree pipeline test accuracy: 0.871\n",
      "Naive Bayes pipeline test accuracy: 0.825\n",
      "Ridge pipeline test accuracy: 0.899\n",
      "SGD pipeline test accuracy: 0.871\n",
      "---\n",
      "Classifier with best accuracy: Ridge\n"
     ]
    }
   ],
   "source": [
    "# Construindo pipelines\n",
    "pipe_lr    = Pipeline([('scl', StandardScaler()), ('pca', PCA()), ('clf', LogisticRegression(solver='lbfgs'))])\n",
    "pipe_knn   = Pipeline([('scl', StandardScaler()), ('pca', PCA()), ('clf', KNeighborsClassifier())])\n",
    "pipe_dt    = Pipeline([('scl', StandardScaler()), ('pca', PCA()), ('clf', DecisionTreeClassifier())])\n",
    "pipe_nb    = Pipeline([('scl', StandardScaler()), ('pca', PCA()), ('clf', GaussianNB())])\n",
    "pipe_ridge = Pipeline([('scl', StandardScaler()), ('pca', PCA()), ('clf', RidgeClassifier())])\n",
    "pipe_sgd   = Pipeline([('scl', StandardScaler()), ('pca', PCA()), ('clf', SGDClassifier())])\n",
    "\n",
    "# Lista de pipelines a serem executados\n",
    "pipelines = [pipe_lr, pipe_knn, pipe_dt, pipe_nb, pipe_ridge, pipe_sgd]\n",
    "\n",
    "# parametros para aplicar no GridSearchCV\n",
    "param_dict = {\"pca__n_components\": list(range(1,X.shape[1]))}\n",
    "\n",
    "\n",
    "#estimator = []\n",
    "\n",
    "#for pipe in pipelines: \n",
    "#    estimator.append(GridSearchCV(pipe, param_dict, verbose = 2))\n",
    "    \n",
    "\n",
    "# Dicionário para facilitar identificacao\n",
    "pipe_dict = {0: 'Logistic Regression', 1: 'KNN', 2: 'Decision Tree', 3: 'Naive Bayes', 4: 'Ridge', 5: 'SGD'}\n",
    "\n",
    "# aplicando fit\n",
    "# Generaliza a execucao do fit de cada ultima funcao do pipe\n",
    "for pipe in pipelines:\n",
    "    pipe.fit(X_train, y_train.values.ravel())\n",
    "\n",
    "# Compara acurácia\n",
    "for i, pipe in enumerate(pipelines):\n",
    "    print('%s pipeline test accuracy: %.3f' % (pipe_dict[i], pipe.score(X_test, y_test)))\n",
    "\n",
    "# para cada modelo treinado obtem val score\n",
    "best_acc = 0.0\n",
    "best_clf = 0\n",
    "best_pipe = ''\n",
    "for i, pipe in enumerate(pipelines):\n",
    "    # Descobre o melhor val.score e armazen em best_clf\n",
    "    if pipe.score(X_test, y_test) > best_acc:\n",
    "        best_acc = pipe.score(X_test, y_test)\n",
    "        best_pipe = pipe\n",
    "        best_clf = i\n",
    "print('---\\nClassifier with best accuracy: %s' % pipe_dict[best_clf])"
   ]
  },
  {
   "cell_type": "code",
   "execution_count": 16,
   "metadata": {},
   "outputs": [
    {
     "name": "stderr",
     "output_type": "stream",
     "text": [
      "/home/duanhubcwb/miniconda3/lib/python3.7/site-packages/sklearn/model_selection/_split.py:1978: FutureWarning: The default value of cv will change from 3 to 5 in version 0.22. Specify it explicitly to silence this warning.\n",
      "  warnings.warn(CV_WARNING, FutureWarning)\n"
     ]
    },
    {
     "name": "stdout",
     "output_type": "stream",
     "text": [
      "Logistic Regression pipeline com PCA\n",
      "---\n",
      "Best accuracy: 0.895\n",
      "\n",
      "Best params: {'pca__n_components': 17}\n",
      "---\n"
     ]
    },
    {
     "name": "stderr",
     "output_type": "stream",
     "text": [
      "/home/duanhubcwb/miniconda3/lib/python3.7/site-packages/sklearn/model_selection/_split.py:1978: FutureWarning: The default value of cv will change from 3 to 5 in version 0.22. Specify it explicitly to silence this warning.\n",
      "  warnings.warn(CV_WARNING, FutureWarning)\n"
     ]
    },
    {
     "name": "stdout",
     "output_type": "stream",
     "text": [
      "KNN pipeline com PCA\n",
      "---\n",
      "Best accuracy: 0.895\n",
      "\n",
      "Best params: {'pca__n_components': 16}\n",
      "---\n"
     ]
    },
    {
     "name": "stderr",
     "output_type": "stream",
     "text": [
      "/home/duanhubcwb/miniconda3/lib/python3.7/site-packages/sklearn/model_selection/_split.py:1978: FutureWarning: The default value of cv will change from 3 to 5 in version 0.22. Specify it explicitly to silence this warning.\n",
      "  warnings.warn(CV_WARNING, FutureWarning)\n"
     ]
    },
    {
     "name": "stdout",
     "output_type": "stream",
     "text": [
      "Decision Tree pipeline com PCA\n",
      "---\n",
      "Best accuracy: 0.885\n",
      "\n",
      "Best params: {'pca__n_components': 19}\n",
      "---\n"
     ]
    },
    {
     "name": "stderr",
     "output_type": "stream",
     "text": [
      "/home/duanhubcwb/miniconda3/lib/python3.7/site-packages/sklearn/model_selection/_split.py:1978: FutureWarning: The default value of cv will change from 3 to 5 in version 0.22. Specify it explicitly to silence this warning.\n",
      "  warnings.warn(CV_WARNING, FutureWarning)\n"
     ]
    },
    {
     "name": "stdout",
     "output_type": "stream",
     "text": [
      "Naive Bayes pipeline com PCA\n",
      "---\n",
      "Best accuracy: 0.867\n",
      "\n",
      "Best params: {'pca__n_components': 1}\n",
      "---\n"
     ]
    },
    {
     "name": "stderr",
     "output_type": "stream",
     "text": [
      "/home/duanhubcwb/miniconda3/lib/python3.7/site-packages/sklearn/model_selection/_split.py:1978: FutureWarning: The default value of cv will change from 3 to 5 in version 0.22. Specify it explicitly to silence this warning.\n",
      "  warnings.warn(CV_WARNING, FutureWarning)\n"
     ]
    },
    {
     "name": "stdout",
     "output_type": "stream",
     "text": [
      "Ridge pipeline com PCA\n",
      "---\n",
      "Best accuracy: 0.889\n",
      "\n",
      "Best params: {'pca__n_components': 17}\n",
      "---\n"
     ]
    },
    {
     "name": "stderr",
     "output_type": "stream",
     "text": [
      "/home/duanhubcwb/miniconda3/lib/python3.7/site-packages/sklearn/model_selection/_split.py:1978: FutureWarning: The default value of cv will change from 3 to 5 in version 0.22. Specify it explicitly to silence this warning.\n",
      "  warnings.warn(CV_WARNING, FutureWarning)\n"
     ]
    },
    {
     "name": "stdout",
     "output_type": "stream",
     "text": [
      "SGD pipeline com PCA\n",
      "---\n",
      "Best accuracy: 0.888\n",
      "\n",
      "Best params: {'pca__n_components': 17}\n",
      "---\n"
     ]
    }
   ],
   "source": [
    "#pipe_knn = Pipeline([('scl', StandardScaler()), ('clf', KNeighborsClassifier())])\n",
    "# Construindo pipelines\n",
    "pipe_lr    = Pipeline([('scl', StandardScaler()), ('pca', PCA()), ('clfLogreg', LogisticRegression(solver='lbfgs'))])\n",
    "pipe_knn   = Pipeline([('scl', StandardScaler()), ('pca', PCA()), ('clfKnn', KNeighborsClassifier())])\n",
    "pipe_dt    = Pipeline([('scl', StandardScaler()), ('pca', PCA()), ('clfTree', DecisionTreeClassifier())])\n",
    "pipe_nb    = Pipeline([('scl', StandardScaler()), ('pca', PCA()), ('clfNb', GaussianNB())])\n",
    "pipe_ridge = Pipeline([('scl', StandardScaler()), ('pca', PCA()), ('clfRidge', RidgeClassifier())])\n",
    "pipe_sgd   = Pipeline([('scl', StandardScaler()), ('pca', PCA()), ('clfSgd', SGDClassifier())])\n",
    "\n",
    "\n",
    "pipelines = [pipe_lr, pipe_knn, pipe_dt, pipe_nb, pipe_ridge, pipe_sgd]\n",
    "\n",
    "param_range = [1, 2]\n",
    "\n",
    "grid_params = [{'pca__n_components': list(range(1,X.shape[1]))}]\n",
    "\n",
    "'''\n",
    "grid_params = [{'clfTree__criterion': ['gini', 'entropy'],\n",
    "    'clfTree__min_samples_leaf': param_range,\n",
    "    'clfTree__max_depth': param_range,\n",
    "    'clfTree__min_samples_split': param_range[1:],\n",
    "    'clfTree__presort': [True, False],\n",
    "    'pca__n_components': [2, 5, 9, 12, 15]}]\n",
    "'''\n",
    "\n",
    "pipe_dict = {0: 'Logistic Regression', 1: 'KNN', 2: 'Decision Tree', 3: 'Naive Bayes', 4: 'Ridge', 5: 'SGD'}\n",
    "\n",
    "# Construct grid search\n",
    "for i, pipe in enumerate(pipelines):\n",
    "    gs = GridSearchCV(estimator  = pipe,\n",
    "                      param_grid = grid_params,\n",
    "                      scoring    = 'accuracy')\n",
    "    \n",
    "    gs.fit(X_train, y_train.values.ravel())\n",
    "    # Best accuracy\n",
    "    print('%s pipeline com PCA\\n---' % pipe_dict[i])\n",
    "\n",
    "    print('Best accuracy: %.3f' % gs.best_score_)\n",
    "\n",
    "    # Best params\n",
    "    print('\\nBest params:', gs.best_params_)\n",
    "    print(\"---\")\n"
   ]
  },
  {
   "cell_type": "markdown",
   "metadata": {},
   "source": [
    "# Conclusao\n",
    "---\n",
    "\n",
    "Acima foram testados os classificadores Logistic Regression, KNN, Decision Tree, Naive Bayes, Ridge e SGD, todos atraves de um pipeline com aplicacao de PCA (para reducao otima de colunas)."
   ]
  },
  {
   "cell_type": "code",
   "execution_count": null,
   "metadata": {},
   "outputs": [],
   "source": []
  }
 ],
 "metadata": {
  "kernelspec": {
   "display_name": "Python 3",
   "language": "python",
   "name": "python3"
  },
  "language_info": {
   "codemirror_mode": {
    "name": "ipython",
    "version": 3
   },
   "file_extension": ".py",
   "mimetype": "text/x-python",
   "name": "python",
   "nbconvert_exporter": "python",
   "pygments_lexer": "ipython3",
   "version": "3.7.4"
  }
 },
 "nbformat": 4,
 "nbformat_minor": 2
}
