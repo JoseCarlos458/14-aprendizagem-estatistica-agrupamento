{
  "cells": [
    {
      "cell_type": "code",
      "source": [
        "import pandas as pd\n",
        "\n",
        "from sklearn import linear_model\n",
        "\n",
        "from sklearn.model_selection import train_test_split\n",
        "\n",
        "from sklearn import metrics\n",
        "\n",
        "from sklearn.decomposition import PCA\n",
        "\n",
        "import numpy as np\n",
        "\n",
        "import pylab as plt"
      ],
      "outputs": [],
      "execution_count": 61,
      "metadata": {
        "collapsed": false,
        "jupyter": {
          "source_hidden": false,
          "outputs_hidden": false
        },
        "nteract": {
          "transient": {
            "deleting": false
          }
        }
      }
    },
    {
      "cell_type": "code",
      "source": [
        "dados = pd.read_csv(\"c:/Users/Felipe/Documents/GitHub/pythonstat/ex_classificador/SAheart.data.csv\", sep=\",\")"
      ],
      "outputs": [],
      "execution_count": 3,
      "metadata": {
        "collapsed": false,
        "jupyter": {
          "source_hidden": false,
          "outputs_hidden": false
        },
        "nteract": {
          "transient": {
            "deleting": false
          }
        }
      }
    },
    {
      "cell_type": "code",
      "source": [
        "dados.head(2)"
      ],
      "outputs": [
        {
          "output_type": "execute_result",
          "execution_count": 7,
          "data": {
            "text/html": [
              "<div>\n",
              "<style scoped>\n",
              "    .dataframe tbody tr th:only-of-type {\n",
              "        vertical-align: middle;\n",
              "    }\n",
              "\n",
              "    .dataframe tbody tr th {\n",
              "        vertical-align: top;\n",
              "    }\n",
              "\n",
              "    .dataframe thead th {\n",
              "        text-align: right;\n",
              "    }\n",
              "</style>\n",
              "<table border=\"1\" class=\"dataframe\">\n",
              "  <thead>\n",
              "    <tr style=\"text-align: right;\">\n",
              "      <th></th>\n",
              "      <th>sbp</th>\n",
              "      <th>tobacco</th>\n",
              "      <th>ldl</th>\n",
              "      <th>adiposity</th>\n",
              "      <th>famhist</th>\n",
              "      <th>typea</th>\n",
              "      <th>obesity</th>\n",
              "      <th>alcohol</th>\n",
              "      <th>age</th>\n",
              "      <th>chd</th>\n",
              "    </tr>\n",
              "  </thead>\n",
              "  <tbody>\n",
              "    <tr>\n",
              "      <th>1</th>\n",
              "      <td>160</td>\n",
              "      <td>12.00</td>\n",
              "      <td>5.73</td>\n",
              "      <td>23.11</td>\n",
              "      <td>True</td>\n",
              "      <td>49</td>\n",
              "      <td>25.30</td>\n",
              "      <td>97.20</td>\n",
              "      <td>52</td>\n",
              "      <td>1</td>\n",
              "    </tr>\n",
              "    <tr>\n",
              "      <th>2</th>\n",
              "      <td>144</td>\n",
              "      <td>0.01</td>\n",
              "      <td>4.41</td>\n",
              "      <td>28.61</td>\n",
              "      <td>False</td>\n",
              "      <td>55</td>\n",
              "      <td>28.87</td>\n",
              "      <td>2.06</td>\n",
              "      <td>63</td>\n",
              "      <td>1</td>\n",
              "    </tr>\n",
              "  </tbody>\n",
              "</table>\n",
              "</div>"
            ],
            "text/plain": [
              "   sbp  tobacco   ldl  adiposity  famhist  typea  obesity  alcohol  age  chd\n",
              "1  160    12.00  5.73      23.11     True     49    25.30    97.20   52    1\n",
              "2  144     0.01  4.41      28.61    False     55    28.87     2.06   63    1"
            ]
          },
          "metadata": {}
        }
      ],
      "execution_count": 7,
      "metadata": {
        "collapsed": false,
        "jupyter": {
          "source_hidden": false,
          "outputs_hidden": false
        },
        "nteract": {
          "transient": {
            "deleting": false
          }
        }
      }
    },
    {
      "cell_type": "code",
      "source": [
        "dados.famhist = dados.famhist == 'Present'  ;"
      ],
      "outputs": [],
      "execution_count": 6,
      "metadata": {
        "collapsed": false,
        "jupyter": {
          "source_hidden": false,
          "outputs_hidden": false
        },
        "nteract": {
          "transient": {
            "deleting": false
          }
        }
      }
    },
    {
      "cell_type": "code",
      "source": [
        "tamanhoTeste = 0.3\n",
        "\n",
        "X = dados.drop(columns='chd');\n",
        "y = dados.loc[:, ['chd']] \n",
        "\n",
        "X_train, X_test, y_train, y_test = train_test_split(X,y, test_size=tamanhoTeste)"
      ],
      "outputs": [],
      "execution_count": 105,
      "metadata": {
        "collapsed": false,
        "jupyter": {
          "source_hidden": false,
          "outputs_hidden": false
        },
        "nteract": {
          "transient": {
            "deleting": false
          }
        }
      }
    },
    {
      "cell_type": "code",
      "source": [
        "kernelSGD = linear_model.SGDClassifier()\n",
        "kernelLog = linear_model.LogisticRegressionCV()"
      ],
      "outputs": [],
      "execution_count": 169,
      "metadata": {
        "collapsed": false,
        "jupyter": {
          "source_hidden": false,
          "outputs_hidden": false
        },
        "nteract": {
          "transient": {
            "deleting": false
          }
        }
      }
    },
    {
      "cell_type": "code",
      "source": [
        "def scores(y_pred_,y_test):\n",
        "    return (metrics.precision_score(y_pred_, y_test),\n",
        "metrics.recall_score(y_pred_, y_test),\n",
        "metrics.f1_score(y_pred_, y_test))"
      ],
      "outputs": [],
      "execution_count": 171,
      "metadata": {
        "collapsed": false,
        "jupyter": {
          "source_hidden": false,
          "outputs_hidden": false
        },
        "nteract": {
          "transient": {
            "deleting": false
          }
        }
      }
    },
    {
      "cell_type": "code",
      "source": [
        "\n",
        "kernelSGD.fit(X_train,y_train);\n",
        "kernelLog.fit(X_train,y_train);\n",
        "\n",
        "y_pred_ = kernelLog.predict(X_test)\n",
        "\n",
        "y_pred_log_prf = scores(y_pred_,y_test)\n",
        "\n",
        "y_pred_t = kernelSGD.predict(X_test)\n",
        "\n",
        "y_pred_sgd_prf = scores(y_pred_,y_test)"
      ],
      "outputs": [],
      "execution_count": 197,
      "metadata": {
        "collapsed": false,
        "jupyter": {
          "source_hidden": false,
          "outputs_hidden": false
        },
        "nteract": {
          "transient": {
            "deleting": false
          }
        }
      }
    },
    {
      "cell_type": "code",
      "source": [
        "from sklearn.decomposition import PCA"
      ],
      "outputs": [],
      "execution_count": 32,
      "metadata": {
        "collapsed": false,
        "jupyter": {
          "source_hidden": false,
          "outputs_hidden": false
        },
        "nteract": {
          "transient": {
            "deleting": false
          }
        }
      }
    },
    {
      "cell_type": "code",
      "source": [
        "def  ex_var(comp):\n",
        "    pca = PCA(n_components=comp)\n",
        "    \n",
        "    pca.fit(X_train)\n",
        "\n",
        "    return np.cumsum(pca.explained_variance_ratio_)\n",
        "\n",
        "eerv = map(ex_var, range(2,10))\n",
        "\n",
        "plt.plot(eerv[-1]); plt.grid()"
      ],
      "outputs": [
        {
          "output_type": "display_data",
          "data": {
            "image/png": "[encoded data removed]",
            "text/plain": [
              "<Figure size 432x288 with 1 Axes>"
            ]
          },
          "metadata": {
            "needs_background": "light"
          }
        }
      ],
      "execution_count": 176,
      "metadata": {
        "collapsed": false,
        "jupyter": {
          "source_hidden": false,
          "outputs_hidden": false
        },
        "nteract": {
          "transient": {
            "deleting": false
          }
        }
      }
    },
    {
      "cell_type": "code",
      "source": [
        "pca = PCA(n_components=5)\n",
        "pca.fit(X_train)\n",
        "\n",
        "x_train_t = pca.transform(X_train)\n",
        "x_test_t = pca.transform(X_test)"
      ],
      "outputs": [],
      "execution_count": 177,
      "metadata": {
        "collapsed": false,
        "jupyter": {
          "source_hidden": false,
          "outputs_hidden": false
        },
        "nteract": {
          "transient": {
            "deleting": false
          }
        }
      }
    },
    {
      "cell_type": "code",
      "source": [
        "kernelSGD.fit(x_train_t,y_train);\n",
        "kernelLog.fit(x_train_t,y_train);\n",
        "\n",
        "y_pred_t = kernelSGD.predict(x_test_t)\n",
        "\n",
        "y_pred_sgd_prf_pca = scores(y_pred_t,y_test)\n",
        "\n",
        "y_pred_t = kernelLog.predict(x_test_t)\n",
        "\n",
        "y_pred_log_prf_pca = scores(y_pred_t,y_test)"
      ],
      "outputs": [],
      "execution_count": 183,
      "metadata": {
        "collapsed": false,
        "jupyter": {
          "source_hidden": false,
          "outputs_hidden": false
        },
        "nteract": {
          "transient": {
            "deleting": false
          }
        }
      }
    },
    {
      "cell_type": "code",
      "source": [
        "x1=np.arange(1,3)*5\n",
        "p='precision'\n",
        "plt.bar(height=[y_pred_log_prf_pca[0], y_pred_log_prf[0] ], x=x1, label=p)\n",
        "\n",
        "p='recall'\n",
        "plt.bar(height=[y_pred_log_prf_pca[1], y_pred_log_prf[1] ], x=x1+1, label= p)\n",
        " \n",
        "p='f1'\n",
        "plt.bar(height=[y_pred_log_prf_pca[2], y_pred_log_prf[2] ], x=x1+2, label= p)\n",
        "\n",
        "plt.xticks(x1+1, ('Logistic PCA ', 'Logistic')); plt.grid(); plt.legend()\n",
        "\n",
        "plt.axis([0,20,0,None]);"
      ],
      "outputs": [
        {
          "output_type": "display_data",
          "data": {
            "image/png": "[encoded data removed]",
            "text/plain": [
              "<Figure size 432x288 with 1 Axes>"
            ]
          },
          "metadata": {
            "needs_background": "light"
          }
        }
      ],
      "execution_count": 204,
      "metadata": {
        "collapsed": false,
        "jupyter": {
          "source_hidden": false,
          "outputs_hidden": false
        },
        "nteract": {
          "transient": {
            "deleting": false
          }
        }
      }
    },
    {
      "cell_type": "code",
      "source": [
        "x1=np.arange(1,3)*5\n",
        "p='precision'\n",
        "plt.bar(height=[y_pred_sgd_prf_pca[0], y_pred_sgd_prf[0] ], x=x1, label=p)\n",
        "\n",
        "p='recall'\n",
        "plt.bar(height=[y_pred_sgd_prf_pca[1], y_pred_sgd_prf[1] ], x=x1+1, label= p)\n",
        " \n",
        "p='f1'\n",
        "plt.bar(height=[y_pred_sgd_prf_pca[2], y_pred_sgd_prf[2] ], x=x1+2, label= p)\n",
        "\n",
        "plt.xticks(x1+1, ('SGD pca ', 'SGD')); plt.grid(); plt.legend()\n",
        "\n",
        "plt.axis([0,20,0,None]);"
      ],
      "outputs": [
        {
          "output_type": "display_data",
          "data": {
            "image/png": "[encoded data removed]",
            "text/plain": [
              "<Figure size 432x288 with 1 Axes>"
            ]
          },
          "metadata": {
            "needs_background": "light"
          }
        }
      ],
      "execution_count": 203,
      "metadata": {
        "collapsed": false,
        "jupyter": {
          "source_hidden": false,
          "outputs_hidden": false
        },
        "nteract": {
          "transient": {
            "deleting": false
          }
        }
      }
    },
    {
      "cell_type": "code",
      "source": [
        "y_pred_sgd_prf_pca"
      ],
      "outputs": [
        {
          "output_type": "execute_result",
          "execution_count": 184,
          "data": {
            "text/plain": [
              "(0.47058823529411764, 0.6, 0.5274725274725275)"
            ]
          },
          "metadata": {}
        }
      ],
      "execution_count": 184,
      "metadata": {
        "collapsed": false,
        "jupyter": {
          "source_hidden": false,
          "outputs_hidden": false
        },
        "nteract": {
          "transient": {
            "deleting": false
          }
        }
      }
    },
    {
      "cell_type": "code",
      "source": [
        "y_pred_log_prf_pca"
      ],
      "outputs": [
        {
          "output_type": "execute_result",
          "execution_count": 186,
          "data": {
            "text/plain": [
              "(0.29411764705882354, 0.6521739130434783, 0.4054054054054054)"
            ]
          },
          "metadata": {}
        }
      ],
      "execution_count": 186,
      "metadata": {
        "collapsed": false,
        "jupyter": {
          "source_hidden": false,
          "outputs_hidden": false
        },
        "nteract": {
          "transient": {
            "deleting": false
          }
        }
      }
    },
    {
      "cell_type": "code",
      "source": [],
      "outputs": [],
      "execution_count": null,
      "metadata": {
        "collapsed": false,
        "jupyter": {
          "source_hidden": false,
          "outputs_hidden": false
        },
        "nteract": {
          "transient": {
            "deleting": false
          }
        }
      }
    }
  ],
  "metadata": {
    "kernel_info": {
      "name": "python2"
    },
    "language_info": {
      "mimetype": "text/x-python",
      "nbconvert_exporter": "python",
      "name": "python",
      "pygments_lexer": "ipython2",
      "version": "2.7.13",
      "file_extension": ".py",
      "codemirror_mode": {
        "version": 2,
        "name": "ipython"
      }
    },
    "kernelspec": {
      "argv": [
        "C:\\Users\\Felipe\\Miniconda2\\envs\\spyder\\python.exe",
        "-m",
        "ipykernel_launcher",
        "-f",
        "{connection_file}"
      ],
      "display_name": "Python 2",
      "language": "python",
      "name": "python2"
    },
    "nteract": {
      "version": "0.21.0"
    }
  },
  "nbformat": 4,
  "nbformat_minor": 0
}