{
 "cells": [
  {
   "cell_type": "markdown",
   "metadata": {},
   "source": [
    "## Refaça a analise do exercicio de classificacao supervisionada, incluindo o PCA."
   ]
  },
  {
   "cell_type": "markdown",
   "metadata": {},
   "source": [
    "## Plote a curva explained_variance_ratio para encontrar uma quantidade de componentes que explique perto de 90% da variancia"
   ]
  },
  {
   "cell_type": "code",
   "execution_count": 64,
   "metadata": {},
   "outputs": [],
   "source": [
    "from sklearn.neighbors import KNeighborsRegressor, KNeighborsClassifier\n",
    "from sklearn.tree import DecisionTreeRegressor, DecisionTreeClassifier\n",
    "from sklearn.linear_model import SGDRegressor, SGDClassifier\n",
    "from sklearn.model_selection import train_test_split\n",
    "from sklearn.preprocessing import StandardScaler\n",
    "from sklearn.model_selection import GridSearchCV\n",
    "from sklearn.neighbors import NearestNeighbors\n",
    "from sklearn.decomposition import PCA\n",
    "from sklearn.pipeline import Pipeline\n",
    "from sklearn.metrics import r2_score\n",
    "from sklearn import preprocessing\n",
    "import matplotlib.pyplot as plt\n",
    "from sklearn import metrics\n",
    "import pandas as pd\n",
    "import numpy as np"
   ]
  },
  {
   "cell_type": "markdown",
   "metadata": {},
   "source": [
    "## MNIST"
   ]
  },
  {
   "cell_type": "code",
   "execution_count": 65,
   "metadata": {},
   "outputs": [],
   "source": [
    "df = pd.read_csv(\"./../mnist_train.csv\",sep=\",\")"
   ]
  },
  {
   "cell_type": "code",
   "execution_count": 66,
   "metadata": {},
   "outputs": [],
   "source": [
    "dfs = df.sample(n=3000)"
   ]
  },
  {
   "cell_type": "code",
   "execution_count": 67,
   "metadata": {},
   "outputs": [
    {
     "data": {
      "text/plain": [
       "1    342\n",
       "4    315\n",
       "6    312\n",
       "2    303\n",
       "9    298\n",
       "0    298\n",
       "7    297\n",
       "3    292\n",
       "8    291\n",
       "5    252\n",
       "Name: label, dtype: int64"
      ]
     },
     "execution_count": 67,
     "metadata": {},
     "output_type": "execute_result"
    }
   ],
   "source": [
    "dfs.label.value_counts()"
   ]
  },
  {
   "cell_type": "code",
   "execution_count": 68,
   "metadata": {},
   "outputs": [
    {
     "name": "stdout",
     "output_type": "stream",
     "text": [
      "<class 'pandas.core.frame.DataFrame'>\n",
      "Int64Index: 3000 entries, 41947 to 26853\n",
      "Columns: 785 entries, label to 28x28\n",
      "dtypes: int64(785)\n",
      "memory usage: 18.0 MB\n"
     ]
    }
   ],
   "source": [
    "dfs.info()"
   ]
  },
  {
   "cell_type": "code",
   "execution_count": 69,
   "metadata": {},
   "outputs": [],
   "source": [
    "X = dfs.drop(['label'], axis=1)\n",
    "y = dfs['label']"
   ]
  },
  {
   "cell_type": "markdown",
   "metadata": {},
   "source": [
    "### Curva explained_variance_ratio  (n_components ideal = 400)"
   ]
  },
  {
   "cell_type": "code",
   "execution_count": 70,
   "metadata": {},
   "outputs": [
    {
     "data": {
      "text/plain": [
       "Text(0, 0.5, 'cumulative explained variance')"
      ]
     },
     "execution_count": 70,
     "metadata": {},
     "output_type": "execute_result"
    },
    {
     "data": {
      "image/png": "[encoded data removed]",
      "text/plain": [
       "<Figure size 432x288 with 1 Axes>"
      ]
     },
     "metadata": {
      "needs_background": "light"
     },
     "output_type": "display_data"
    }
   ],
   "source": [
    "pca = PCA().fit(X)\n",
    "plt.plot(np.cumsum(pca.explained_variance_ratio_))\n",
    "plt.xlabel('number of components')\n",
    "plt.ylabel('cumulative explained variance')"
   ]
  },
  {
   "cell_type": "code",
   "execution_count": 71,
   "metadata": {},
   "outputs": [],
   "source": [
    "ncomp = 400\n",
    "pca = PCA(n_components=400)\n",
    "pca.fit(X)\n",
    "X_pca = pca.transform(X)"
   ]
  },
  {
   "cell_type": "code",
   "execution_count": 72,
   "metadata": {},
   "outputs": [],
   "source": [
    "X_train, X_test, y_train, y_test = train_test_split(X,y,test_size=0.3)"
   ]
  },
  {
   "cell_type": "code",
   "execution_count": 73,
   "metadata": {},
   "outputs": [
    {
     "name": "stdout",
     "output_type": "stream",
     "text": [
      "    Test Accuracy\n",
      "\n",
      "Knn: 0.871\n",
      "Knn PCA: 0.872\n",
      "Tree: 0.694\n",
      "Tree PCA: 0.639\n",
      "SGDR: 0.879\n",
      "SGDR PCA: 0.873\n",
      "\n",
      "Regression with best accuracy:  SGDR\n"
     ]
    }
   ],
   "source": [
    "pknn = Pipeline([('scl', StandardScaler()), ('rgs', KNeighborsClassifier(n_neighbors=3))])\n",
    "pknnpca = Pipeline([('scl', StandardScaler()),('pca', PCA(n_components=ncomp)), ('rgs', KNeighborsClassifier(n_neighbors=3))])\n",
    "ptree = Pipeline([('scl', StandardScaler()), ('rgs', DecisionTreeClassifier())])\n",
    "psgdr = Pipeline([('scl', StandardScaler()), ('rgs', SGDClassifier())])\n",
    "ptreepca = Pipeline([('scl', StandardScaler()),('pca', PCA(n_components=ncomp)), ('rgs', DecisionTreeClassifier())])\n",
    "psgdrpca = Pipeline([('scl', StandardScaler()),('pca', PCA(n_components=ncomp)), ('rgs', SGDClassifier())])\n",
    "\n",
    "pipelines = [pknn, pknnpca, ptree,ptreepca, psgdr, psgdrpca]\n",
    "\n",
    "pipe_names = {0:\"Knn\", 1:\"Knn PCA\", 2:\"Tree\", 3:\"Tree PCA\", 4:\"SGDR\", 5:\"SGDR PCA\"}\n",
    "\n",
    "for pipe in pipelines:\n",
    "    pipe.fit(X_train, y_train)\n",
    "\n",
    "print(\"    Test Accuracy\\n\")\n",
    "scores = []\n",
    "for idx, val in enumerate(pipelines):\n",
    "    sc = val.score(X_test, y_test)\n",
    "    scores.append(sc)\n",
    "    print(\"%s: %.3f\" % (pipe_names[idx], sc))\n",
    "    \n",
    "max_ind = scores.index(max(scores))\n",
    "print(\"\\nRegression with best accuracy: \", pipe_names[max_ind])"
   ]
  },
  {
   "cell_type": "markdown",
   "metadata": {},
   "source": [
    "## RUMO "
   ]
  },
  {
   "cell_type": "code",
   "execution_count": 40,
   "metadata": {},
   "outputs": [
    {
     "data": {
      "text/plain": [
       "Index(['OS', 'TB_TOTAL', 'COMP_TOTAL', 'PREFIXO', 'DTINICIO', 'DTFIM',\n",
       "       'TEMPO_TOTAL', 'N_SECOES', 'SENTIDO', 'TEMPO_PREVISAO',\n",
       "       'TEMPO_PREVISAO_PC'],\n",
       "      dtype='object')"
      ]
     },
     "execution_count": 40,
     "metadata": {},
     "output_type": "execute_result"
    }
   ],
   "source": [
    "df = pd.read_csv(\"./../tempo_previsao.csv\",sep=',')\n",
    "df.columns"
   ]
  },
  {
   "cell_type": "code",
   "execution_count": 41,
   "metadata": {},
   "outputs": [
    {
     "data": {
      "text/html": [
       "<div>\n",
       "<style scoped>\n",
       "    .dataframe tbody tr th:only-of-type {\n",
       "        vertical-align: middle;\n",
       "    }\n",
       "\n",
       "    .dataframe tbody tr th {\n",
       "        vertical-align: top;\n",
       "    }\n",
       "\n",
       "    .dataframe thead th {\n",
       "        text-align: right;\n",
       "    }\n",
       "</style>\n",
       "<table border=\"1\" class=\"dataframe\">\n",
       "  <thead>\n",
       "    <tr style=\"text-align: right;\">\n",
       "      <th></th>\n",
       "      <th>OS</th>\n",
       "      <th>TB_TOTAL</th>\n",
       "      <th>COMP_TOTAL</th>\n",
       "      <th>PREFIXO</th>\n",
       "      <th>DTINICIO</th>\n",
       "      <th>DTFIM</th>\n",
       "      <th>TEMPO_TOTAL</th>\n",
       "      <th>N_SECOES</th>\n",
       "      <th>SENTIDO</th>\n",
       "      <th>TEMPO_PREVISAO</th>\n",
       "      <th>TEMPO_PREVISAO_PC</th>\n",
       "    </tr>\n",
       "  </thead>\n",
       "  <tbody>\n",
       "    <tr>\n",
       "      <th>0</th>\n",
       "      <td>1602551</td>\n",
       "      <td>2093.51</td>\n",
       "      <td>1252.330</td>\n",
       "      <td>M07</td>\n",
       "      <td>2019-09-12 09:42:00</td>\n",
       "      <td>2019-09-13 06:45:00</td>\n",
       "      <td>75780.0</td>\n",
       "      <td>89</td>\n",
       "      <td>0</td>\n",
       "      <td>82945.390109</td>\n",
       "      <td>83823.0</td>\n",
       "    </tr>\n",
       "    <tr>\n",
       "      <th>1</th>\n",
       "      <td>1660144</td>\n",
       "      <td>19317.38</td>\n",
       "      <td>3117.809</td>\n",
       "      <td>X88</td>\n",
       "      <td>2019-09-01 00:11:00</td>\n",
       "      <td>2019-09-04 05:02:00</td>\n",
       "      <td>276660.0</td>\n",
       "      <td>52</td>\n",
       "      <td>1</td>\n",
       "      <td>102336.307077</td>\n",
       "      <td>103852.0</td>\n",
       "    </tr>\n",
       "    <tr>\n",
       "      <th>2</th>\n",
       "      <td>1663573</td>\n",
       "      <td>18582.50</td>\n",
       "      <td>2758.702</td>\n",
       "      <td>X60</td>\n",
       "      <td>2019-09-01 00:24:00</td>\n",
       "      <td>2019-09-01 21:46:00</td>\n",
       "      <td>76920.0</td>\n",
       "      <td>40</td>\n",
       "      <td>1</td>\n",
       "      <td>65014.288616</td>\n",
       "      <td>65964.0</td>\n",
       "    </tr>\n",
       "    <tr>\n",
       "      <th>3</th>\n",
       "      <td>1663574</td>\n",
       "      <td>23425.48</td>\n",
       "      <td>3479.992</td>\n",
       "      <td>X62</td>\n",
       "      <td>2019-09-01 00:03:00</td>\n",
       "      <td>2019-09-01 16:05:00</td>\n",
       "      <td>57720.0</td>\n",
       "      <td>29</td>\n",
       "      <td>1</td>\n",
       "      <td>50915.442958</td>\n",
       "      <td>51721.0</td>\n",
       "    </tr>\n",
       "    <tr>\n",
       "      <th>4</th>\n",
       "      <td>1663576</td>\n",
       "      <td>22854.98</td>\n",
       "      <td>3318.502</td>\n",
       "      <td>X66</td>\n",
       "      <td>2019-09-01 01:02:00</td>\n",
       "      <td>2019-09-02 03:10:00</td>\n",
       "      <td>94080.0</td>\n",
       "      <td>41</td>\n",
       "      <td>1</td>\n",
       "      <td>72409.011027</td>\n",
       "      <td>73544.0</td>\n",
       "    </tr>\n",
       "  </tbody>\n",
       "</table>\n",
       "</div>"
      ],
      "text/plain": [
       "        OS  TB_TOTAL  COMP_TOTAL PREFIXO             DTINICIO  \\\n",
       "0  1602551   2093.51    1252.330     M07  2019-09-12 09:42:00   \n",
       "1  1660144  19317.38    3117.809     X88  2019-09-01 00:11:00   \n",
       "2  1663573  18582.50    2758.702     X60  2019-09-01 00:24:00   \n",
       "3  1663574  23425.48    3479.992     X62  2019-09-01 00:03:00   \n",
       "4  1663576  22854.98    3318.502     X66  2019-09-01 01:02:00   \n",
       "\n",
       "                 DTFIM  TEMPO_TOTAL  N_SECOES  SENTIDO  TEMPO_PREVISAO  \\\n",
       "0  2019-09-13 06:45:00      75780.0        89        0    82945.390109   \n",
       "1  2019-09-04 05:02:00     276660.0        52        1   102336.307077   \n",
       "2  2019-09-01 21:46:00      76920.0        40        1    65014.288616   \n",
       "3  2019-09-01 16:05:00      57720.0        29        1    50915.442958   \n",
       "4  2019-09-02 03:10:00      94080.0        41        1    72409.011027   \n",
       "\n",
       "   TEMPO_PREVISAO_PC  \n",
       "0            83823.0  \n",
       "1           103852.0  \n",
       "2            65964.0  \n",
       "3            51721.0  \n",
       "4            73544.0  "
      ]
     },
     "execution_count": 41,
     "metadata": {},
     "output_type": "execute_result"
    }
   ],
   "source": [
    "le = preprocessing.LabelEncoder()\n",
    "df[\"SENTIDO\"] = le.fit_transform(df[\"SENTIDO\"])\n",
    "df.head()"
   ]
  },
  {
   "cell_type": "code",
   "execution_count": 42,
   "metadata": {},
   "outputs": [
    {
     "data": {
      "text/html": [
       "<div>\n",
       "<style scoped>\n",
       "    .dataframe tbody tr th:only-of-type {\n",
       "        vertical-align: middle;\n",
       "    }\n",
       "\n",
       "    .dataframe tbody tr th {\n",
       "        vertical-align: top;\n",
       "    }\n",
       "\n",
       "    .dataframe thead th {\n",
       "        text-align: right;\n",
       "    }\n",
       "</style>\n",
       "<table border=\"1\" class=\"dataframe\">\n",
       "  <thead>\n",
       "    <tr style=\"text-align: right;\">\n",
       "      <th></th>\n",
       "      <th>OS</th>\n",
       "      <th>TB_TOTAL</th>\n",
       "      <th>COMP_TOTAL</th>\n",
       "      <th>TEMPO_TOTAL</th>\n",
       "      <th>N_SECOES</th>\n",
       "      <th>SENTIDO</th>\n",
       "      <th>TEMPO_PREVISAO</th>\n",
       "      <th>TEMPO_PREVISAO_PC</th>\n",
       "    </tr>\n",
       "  </thead>\n",
       "  <tbody>\n",
       "    <tr>\n",
       "      <th>0</th>\n",
       "      <td>1602551</td>\n",
       "      <td>2093.510</td>\n",
       "      <td>1252.330</td>\n",
       "      <td>75780.0</td>\n",
       "      <td>89</td>\n",
       "      <td>0</td>\n",
       "      <td>82945.390109</td>\n",
       "      <td>83823.0</td>\n",
       "    </tr>\n",
       "    <tr>\n",
       "      <th>1</th>\n",
       "      <td>1660144</td>\n",
       "      <td>19317.380</td>\n",
       "      <td>3117.809</td>\n",
       "      <td>276660.0</td>\n",
       "      <td>52</td>\n",
       "      <td>1</td>\n",
       "      <td>102336.307077</td>\n",
       "      <td>103852.0</td>\n",
       "    </tr>\n",
       "    <tr>\n",
       "      <th>2</th>\n",
       "      <td>1663573</td>\n",
       "      <td>18582.500</td>\n",
       "      <td>2758.702</td>\n",
       "      <td>76920.0</td>\n",
       "      <td>40</td>\n",
       "      <td>1</td>\n",
       "      <td>65014.288616</td>\n",
       "      <td>65964.0</td>\n",
       "    </tr>\n",
       "    <tr>\n",
       "      <th>3</th>\n",
       "      <td>1663574</td>\n",
       "      <td>23425.480</td>\n",
       "      <td>3479.992</td>\n",
       "      <td>57720.0</td>\n",
       "      <td>29</td>\n",
       "      <td>1</td>\n",
       "      <td>50915.442958</td>\n",
       "      <td>51721.0</td>\n",
       "    </tr>\n",
       "    <tr>\n",
       "      <th>4</th>\n",
       "      <td>1663576</td>\n",
       "      <td>22854.980</td>\n",
       "      <td>3318.502</td>\n",
       "      <td>94080.0</td>\n",
       "      <td>41</td>\n",
       "      <td>1</td>\n",
       "      <td>72409.011027</td>\n",
       "      <td>73544.0</td>\n",
       "    </tr>\n",
       "    <tr>\n",
       "      <th>...</th>\n",
       "      <td>...</td>\n",
       "      <td>...</td>\n",
       "      <td>...</td>\n",
       "      <td>...</td>\n",
       "      <td>...</td>\n",
       "      <td>...</td>\n",
       "      <td>...</td>\n",
       "      <td>...</td>\n",
       "    </tr>\n",
       "    <tr>\n",
       "      <th>3051</th>\n",
       "      <td>1670428</td>\n",
       "      <td>1015.620</td>\n",
       "      <td>568.289</td>\n",
       "      <td>15960.0</td>\n",
       "      <td>27</td>\n",
       "      <td>0</td>\n",
       "      <td>17336.420555</td>\n",
       "      <td>17515.0</td>\n",
       "    </tr>\n",
       "    <tr>\n",
       "      <th>3052</th>\n",
       "      <td>1670429</td>\n",
       "      <td>1118.510</td>\n",
       "      <td>661.329</td>\n",
       "      <td>15600.0</td>\n",
       "      <td>27</td>\n",
       "      <td>0</td>\n",
       "      <td>17122.933041</td>\n",
       "      <td>17299.0</td>\n",
       "    </tr>\n",
       "    <tr>\n",
       "      <th>3053</th>\n",
       "      <td>1670474</td>\n",
       "      <td>1941.221</td>\n",
       "      <td>460.330</td>\n",
       "      <td>7080.0</td>\n",
       "      <td>5</td>\n",
       "      <td>0</td>\n",
       "      <td>6353.609350</td>\n",
       "      <td>6420.0</td>\n",
       "    </tr>\n",
       "    <tr>\n",
       "      <th>3054</th>\n",
       "      <td>1670494</td>\n",
       "      <td>3036.375</td>\n",
       "      <td>1473.591</td>\n",
       "      <td>19260.0</td>\n",
       "      <td>21</td>\n",
       "      <td>0</td>\n",
       "      <td>23578.550475</td>\n",
       "      <td>23834.0</td>\n",
       "    </tr>\n",
       "    <tr>\n",
       "      <th>3055</th>\n",
       "      <td>1670519</td>\n",
       "      <td>1198.660</td>\n",
       "      <td>653.209</td>\n",
       "      <td>15300.0</td>\n",
       "      <td>25</td>\n",
       "      <td>0</td>\n",
       "      <td>15250.040049</td>\n",
       "      <td>15408.0</td>\n",
       "    </tr>\n",
       "  </tbody>\n",
       "</table>\n",
       "<p>3056 rows × 8 columns</p>\n",
       "</div>"
      ],
      "text/plain": [
       "           OS   TB_TOTAL  COMP_TOTAL  TEMPO_TOTAL  N_SECOES  SENTIDO  \\\n",
       "0     1602551   2093.510    1252.330      75780.0        89        0   \n",
       "1     1660144  19317.380    3117.809     276660.0        52        1   \n",
       "2     1663573  18582.500    2758.702      76920.0        40        1   \n",
       "3     1663574  23425.480    3479.992      57720.0        29        1   \n",
       "4     1663576  22854.980    3318.502      94080.0        41        1   \n",
       "...       ...        ...         ...          ...       ...      ...   \n",
       "3051  1670428   1015.620     568.289      15960.0        27        0   \n",
       "3052  1670429   1118.510     661.329      15600.0        27        0   \n",
       "3053  1670474   1941.221     460.330       7080.0         5        0   \n",
       "3054  1670494   3036.375    1473.591      19260.0        21        0   \n",
       "3055  1670519   1198.660     653.209      15300.0        25        0   \n",
       "\n",
       "      TEMPO_PREVISAO  TEMPO_PREVISAO_PC  \n",
       "0       82945.390109            83823.0  \n",
       "1      102336.307077           103852.0  \n",
       "2       65014.288616            65964.0  \n",
       "3       50915.442958            51721.0  \n",
       "4       72409.011027            73544.0  \n",
       "...              ...                ...  \n",
       "3051    17336.420555            17515.0  \n",
       "3052    17122.933041            17299.0  \n",
       "3053     6353.609350             6420.0  \n",
       "3054    23578.550475            23834.0  \n",
       "3055    15250.040049            15408.0  \n",
       "\n",
       "[3056 rows x 8 columns]"
      ]
     },
     "execution_count": 42,
     "metadata": {},
     "output_type": "execute_result"
    }
   ],
   "source": [
    "df = df.drop([\"PREFIXO\",\"DTINICIO\",\"DTFIM\"], axis=1)\n",
    "df"
   ]
  },
  {
   "cell_type": "markdown",
   "metadata": {},
   "source": [
    "### Curva explained_variance_ratio  (n_components ideal = 4)"
   ]
  },
  {
   "cell_type": "code",
   "execution_count": 43,
   "metadata": {},
   "outputs": [],
   "source": [
    "X = df.drop([\"TEMPO_PREVISAO\"], axis=1)\n",
    "y = df[\"TEMPO_PREVISAO\"]"
   ]
  },
  {
   "cell_type": "code",
   "execution_count": 44,
   "metadata": {},
   "outputs": [
    {
     "data": {
      "text/plain": [
       "Text(0, 0.5, 'cumulative explained variance')"
      ]
     },
     "execution_count": 44,
     "metadata": {},
     "output_type": "execute_result"
    },
    {
     "data": {
      "image/png": "[encoded data removed]",
      "text/plain": [
       "<Figure size 432x288 with 1 Axes>"
      ]
     },
     "metadata": {
      "needs_background": "light"
     },
     "output_type": "display_data"
    }
   ],
   "source": [
    "pca = PCA().fit(X)\n",
    "plt.plot(np.cumsum(pca.explained_variance_ratio_))\n",
    "plt.xlabel('number of components')\n",
    "plt.ylabel('cumulative explained variance')"
   ]
  },
  {
   "cell_type": "code",
   "execution_count": 45,
   "metadata": {},
   "outputs": [],
   "source": [
    "ncomp = 4\n",
    "pca = PCA(n_components=ncomp)\n",
    "pca.fit(X)\n",
    "X_pca = pca.transform(X)\n",
    "\n",
    "X_train, X_test, y_train, y_test = train_test_split(X,y, test_size=0.3, shuffle=True)"
   ]
  },
  {
   "cell_type": "code",
   "execution_count": 46,
   "metadata": {},
   "outputs": [
    {
     "name": "stdout",
     "output_type": "stream",
     "text": [
      "    Test Accuracy\n",
      "\n",
      "KNN: 0.993\n",
      "KNN PCA: 0.991\n",
      "Árvore de Decisão PCA: 0.983\n",
      "SGDR PCA: 0.979\n",
      "\n",
      "Regression with best accuracy:  KNN\n"
     ]
    }
   ],
   "source": [
    "pknn = Pipeline([('scl', StandardScaler()), ('rgs', KNeighborsRegressor(n_neighbors=3))])\n",
    "pknnpca = Pipeline([('scl', StandardScaler()),('pca', PCA(n_components=ncomp)), ('rgs', KNeighborsRegressor(n_neighbors=3))])\n",
    "ptree = Pipeline([('scl', StandardScaler()),('pca', PCA(n_components=ncomp)), ('rgs', DecisionTreeRegressor())])\n",
    "psgdr = Pipeline([('scl', StandardScaler()),('pca', PCA(n_components=ncomp)), ('rgs', SGDRegressor())])\n",
    "\n",
    "pipelines = [pknn, pknnpca, ptree, psgdr]\n",
    "\n",
    "pipe_names = {0:\"KNN\", 1:\"KNN PCA\", 2:\"Árvore de Decisão PCA\", 3:\"SGDR PCA\"}\n",
    "\n",
    "for pipe in pipelines:\n",
    "    pipe.fit(X_train, y_train)\n",
    "\n",
    "print(\"    Test Accuracy\\n\")\n",
    "scores = []\n",
    "for idx, val in enumerate(pipelines):\n",
    "    sc = val.score(X_test, y_test)\n",
    "    scores.append(sc)\n",
    "    print(\"%s: %.3f\" % (pipe_names[idx], sc))\n",
    "    \n",
    "max_ind = scores.index(max(scores))\n",
    "print(\"\\nRegression with best accuracy: \", pipe_names[max_ind])"
   ]
  },
  {
   "cell_type": "code",
   "execution_count": 47,
   "metadata": {},
   "outputs": [
    {
     "name": "stderr",
     "output_type": "stream",
     "text": [
      "/home/gykimura/miniconda3/envs/boticario/lib/python3.7/site-packages/sklearn/model_selection/_split.py:1978: FutureWarning: The default value of cv will change from 3 to 5 in version 0.22. Specify it explicitly to silence this warning.\n",
      "  warnings.warn(CV_WARNING, FutureWarning)\n",
      "/home/gykimura/miniconda3/envs/boticario/lib/python3.7/site-packages/sklearn/model_selection/_split.py:1978: FutureWarning: The default value of cv will change from 3 to 5 in version 0.22. Specify it explicitly to silence this warning.\n",
      "  warnings.warn(CV_WARNING, FutureWarning)\n",
      "/home/gykimura/miniconda3/envs/boticario/lib/python3.7/site-packages/sklearn/model_selection/_split.py:1978: FutureWarning: The default value of cv will change from 3 to 5 in version 0.22. Specify it explicitly to silence this warning.\n",
      "  warnings.warn(CV_WARNING, FutureWarning)\n"
     ]
    },
    {
     "name": "stdout",
     "output_type": "stream",
     "text": [
      "{'pca__n_components': 7}\n",
      "{'pca__n_components': 7}\n",
      "{'pca__n_components': 7}\n"
     ]
    }
   ],
   "source": [
    "pknnpca = Pipeline([('scl', StandardScaler()),('pca', PCA()), ('rgs', KNeighborsRegressor(n_neighbors=3))])\n",
    "ptreepca = Pipeline([('scl', StandardScaler()),('pca', PCA()), ('rgs', DecisionTreeRegressor())])\n",
    "psgdrpca = Pipeline([('scl', StandardScaler()),('pca', PCA()), ('rgs', SGDRegressor())])\n",
    "\n",
    "pipelines = [pknnpca, ptreepca, psgdrpca]\n",
    "\n",
    "pipe_names = {0:\"Knn PCA\", 1:\"Tree PCA\", 2:\"SGDR PCA\"}\n",
    "\n",
    "param_dict = {\"pca__n_components\":[1, 7]}\n",
    "\n",
    "for pipe in pipelines:\n",
    "    estimator = GridSearchCV(pipe, param_dict)\n",
    "    #pipe.fit(X_train, y_train)\n",
    "    estimator.fit(X_train, y_train)\n",
    "    print(estimator.best_params_)"
   ]
  },
  {
   "cell_type": "markdown",
   "metadata": {},
   "source": [
    "#### Resultados\n",
    "* Aplicando o GridSearch no parâmetro de número de componentes do PCA, é obtido como melhor valor o número máximo de atributos n_components = 8.\n",
    "\n",
    "* Entretanto, é possível manter a acurácia muito próxima com metade do número de atributos n_components=4.\n"
   ]
  },
  {
   "cell_type": "markdown",
   "metadata": {},
   "source": [
    "## VELTEC"
   ]
  },
  {
   "cell_type": "code",
   "execution_count": 48,
   "metadata": {},
   "outputs": [
    {
     "data": {
      "text/plain": [
       "Index(['id_vei', 'id_uo_vei', 'id_motorista', 'id_uo_motorista',\n",
       "       'distancia_percorrida_km', 'qtd_banguela', 'qtd_curvas',\n",
       "       'qtd_aceleracoes', 'qtd_frenagens', 'qtd_vel_faixa_1',\n",
       "       'qtd_vel_faixa_2', 'qtd_vel_faixa_3', 'tempo_vel_faixa_1',\n",
       "       'tempo_vel_faixa_2', 'tempo_vel_faixa_3', 'qtd_vel_via_faixa_1',\n",
       "       'qtd_vel_via_faixa_2', 'qtd_vel_via_faixa_3', 'tempo_vel_via_faixa_1',\n",
       "       'tempo_vel_via_faixa_2', 'tempo_vel_via_faixa_3',\n",
       "       'qtd_manuseio_celular', 'qtd_fadiga_motorista',\n",
       "       'qtd_distracao_motorista', 'qtd_uso_cigarro', 'score_geral', 'rank'],\n",
       "      dtype='object')"
      ]
     },
     "execution_count": 48,
     "metadata": {},
     "output_type": "execute_result"
    }
   ],
   "source": [
    "df = pd.read_csv(\"./../vigencias_scores.csv\",sep=',')\n",
    "df.columns"
   ]
  },
  {
   "cell_type": "code",
   "execution_count": 49,
   "metadata": {},
   "outputs": [
    {
     "data": {
      "text/html": [
       "<div>\n",
       "<style scoped>\n",
       "    .dataframe tbody tr th:only-of-type {\n",
       "        vertical-align: middle;\n",
       "    }\n",
       "\n",
       "    .dataframe tbody tr th {\n",
       "        vertical-align: top;\n",
       "    }\n",
       "\n",
       "    .dataframe thead th {\n",
       "        text-align: right;\n",
       "    }\n",
       "</style>\n",
       "<table border=\"1\" class=\"dataframe\">\n",
       "  <thead>\n",
       "    <tr style=\"text-align: right;\">\n",
       "      <th></th>\n",
       "      <th>id_vei</th>\n",
       "      <th>id_uo_vei</th>\n",
       "      <th>id_motorista</th>\n",
       "      <th>id_uo_motorista</th>\n",
       "      <th>distancia_percorrida_km</th>\n",
       "      <th>qtd_banguela</th>\n",
       "      <th>qtd_curvas</th>\n",
       "      <th>qtd_aceleracoes</th>\n",
       "      <th>qtd_frenagens</th>\n",
       "      <th>qtd_vel_faixa_1</th>\n",
       "      <th>...</th>\n",
       "      <th>qtd_vel_via_faixa_3</th>\n",
       "      <th>tempo_vel_via_faixa_1</th>\n",
       "      <th>tempo_vel_via_faixa_2</th>\n",
       "      <th>tempo_vel_via_faixa_3</th>\n",
       "      <th>qtd_manuseio_celular</th>\n",
       "      <th>qtd_fadiga_motorista</th>\n",
       "      <th>qtd_distracao_motorista</th>\n",
       "      <th>qtd_uso_cigarro</th>\n",
       "      <th>score_geral</th>\n",
       "      <th>rank</th>\n",
       "    </tr>\n",
       "  </thead>\n",
       "  <tbody>\n",
       "    <tr>\n",
       "      <th>0</th>\n",
       "      <td>66486</td>\n",
       "      <td>2855</td>\n",
       "      <td>636779.0</td>\n",
       "      <td>2950.0</td>\n",
       "      <td>234.420</td>\n",
       "      <td>0.0</td>\n",
       "      <td>0.0</td>\n",
       "      <td>0.0</td>\n",
       "      <td>0.0</td>\n",
       "      <td>0.0</td>\n",
       "      <td>...</td>\n",
       "      <td>1.0</td>\n",
       "      <td>208.0</td>\n",
       "      <td>0.0</td>\n",
       "      <td>1456.0</td>\n",
       "      <td>0.0</td>\n",
       "      <td>0.0</td>\n",
       "      <td>0.0</td>\n",
       "      <td>0.0</td>\n",
       "      <td>50.000000</td>\n",
       "      <td>4</td>\n",
       "    </tr>\n",
       "    <tr>\n",
       "      <th>1</th>\n",
       "      <td>8155</td>\n",
       "      <td>3321</td>\n",
       "      <td>636786.0</td>\n",
       "      <td>2950.0</td>\n",
       "      <td>114.083</td>\n",
       "      <td>0.0</td>\n",
       "      <td>0.0</td>\n",
       "      <td>0.0</td>\n",
       "      <td>4.0</td>\n",
       "      <td>0.0</td>\n",
       "      <td>...</td>\n",
       "      <td>0.0</td>\n",
       "      <td>0.0</td>\n",
       "      <td>0.0</td>\n",
       "      <td>0.0</td>\n",
       "      <td>0.0</td>\n",
       "      <td>0.0</td>\n",
       "      <td>0.0</td>\n",
       "      <td>0.0</td>\n",
       "      <td>78.962685</td>\n",
       "      <td>3</td>\n",
       "    </tr>\n",
       "    <tr>\n",
       "      <th>2</th>\n",
       "      <td>8577</td>\n",
       "      <td>3327</td>\n",
       "      <td>636592.0</td>\n",
       "      <td>2950.0</td>\n",
       "      <td>183.725</td>\n",
       "      <td>0.0</td>\n",
       "      <td>0.0</td>\n",
       "      <td>0.0</td>\n",
       "      <td>0.0</td>\n",
       "      <td>0.0</td>\n",
       "      <td>...</td>\n",
       "      <td>0.0</td>\n",
       "      <td>0.0</td>\n",
       "      <td>0.0</td>\n",
       "      <td>0.0</td>\n",
       "      <td>0.0</td>\n",
       "      <td>0.0</td>\n",
       "      <td>0.0</td>\n",
       "      <td>0.0</td>\n",
       "      <td>100.000000</td>\n",
       "      <td>1</td>\n",
       "    </tr>\n",
       "    <tr>\n",
       "      <th>3</th>\n",
       "      <td>7665</td>\n",
       "      <td>3581</td>\n",
       "      <td>636644.0</td>\n",
       "      <td>2950.0</td>\n",
       "      <td>702.525</td>\n",
       "      <td>0.0</td>\n",
       "      <td>0.0</td>\n",
       "      <td>0.0</td>\n",
       "      <td>3.0</td>\n",
       "      <td>0.0</td>\n",
       "      <td>...</td>\n",
       "      <td>1.0</td>\n",
       "      <td>0.0</td>\n",
       "      <td>0.0</td>\n",
       "      <td>0.0</td>\n",
       "      <td>0.0</td>\n",
       "      <td>0.0</td>\n",
       "      <td>0.0</td>\n",
       "      <td>0.0</td>\n",
       "      <td>97.437814</td>\n",
       "      <td>1</td>\n",
       "    </tr>\n",
       "    <tr>\n",
       "      <th>4</th>\n",
       "      <td>8427</td>\n",
       "      <td>2868</td>\n",
       "      <td>636989.0</td>\n",
       "      <td>2950.0</td>\n",
       "      <td>175.290</td>\n",
       "      <td>0.0</td>\n",
       "      <td>0.0</td>\n",
       "      <td>1.0</td>\n",
       "      <td>3.0</td>\n",
       "      <td>0.0</td>\n",
       "      <td>...</td>\n",
       "      <td>1.0</td>\n",
       "      <td>0.0</td>\n",
       "      <td>0.0</td>\n",
       "      <td>0.0</td>\n",
       "      <td>0.0</td>\n",
       "      <td>0.0</td>\n",
       "      <td>0.0</td>\n",
       "      <td>0.0</td>\n",
       "      <td>86.308403</td>\n",
       "      <td>0</td>\n",
       "    </tr>\n",
       "  </tbody>\n",
       "</table>\n",
       "<p>5 rows × 27 columns</p>\n",
       "</div>"
      ],
      "text/plain": [
       "   id_vei  id_uo_vei  id_motorista  id_uo_motorista  distancia_percorrida_km  \\\n",
       "0   66486       2855      636779.0           2950.0                  234.420   \n",
       "1    8155       3321      636786.0           2950.0                  114.083   \n",
       "2    8577       3327      636592.0           2950.0                  183.725   \n",
       "3    7665       3581      636644.0           2950.0                  702.525   \n",
       "4    8427       2868      636989.0           2950.0                  175.290   \n",
       "\n",
       "   qtd_banguela  qtd_curvas  qtd_aceleracoes  qtd_frenagens  qtd_vel_faixa_1  \\\n",
       "0           0.0         0.0              0.0            0.0              0.0   \n",
       "1           0.0         0.0              0.0            4.0              0.0   \n",
       "2           0.0         0.0              0.0            0.0              0.0   \n",
       "3           0.0         0.0              0.0            3.0              0.0   \n",
       "4           0.0         0.0              1.0            3.0              0.0   \n",
       "\n",
       "   ...  qtd_vel_via_faixa_3  tempo_vel_via_faixa_1  tempo_vel_via_faixa_2  \\\n",
       "0  ...                  1.0                  208.0                    0.0   \n",
       "1  ...                  0.0                    0.0                    0.0   \n",
       "2  ...                  0.0                    0.0                    0.0   \n",
       "3  ...                  1.0                    0.0                    0.0   \n",
       "4  ...                  1.0                    0.0                    0.0   \n",
       "\n",
       "   tempo_vel_via_faixa_3  qtd_manuseio_celular  qtd_fadiga_motorista  \\\n",
       "0                 1456.0                   0.0                   0.0   \n",
       "1                    0.0                   0.0                   0.0   \n",
       "2                    0.0                   0.0                   0.0   \n",
       "3                    0.0                   0.0                   0.0   \n",
       "4                    0.0                   0.0                   0.0   \n",
       "\n",
       "   qtd_distracao_motorista  qtd_uso_cigarro  score_geral  rank  \n",
       "0                      0.0              0.0    50.000000     4  \n",
       "1                      0.0              0.0    78.962685     3  \n",
       "2                      0.0              0.0   100.000000     1  \n",
       "3                      0.0              0.0    97.437814     1  \n",
       "4                      0.0              0.0    86.308403     0  \n",
       "\n",
       "[5 rows x 27 columns]"
      ]
     },
     "execution_count": 49,
     "metadata": {},
     "output_type": "execute_result"
    }
   ],
   "source": [
    "le = preprocessing.LabelEncoder()\n",
    "df[\"rank\"] = le.fit_transform(df[\"rank\"])\n",
    "df.head()"
   ]
  },
  {
   "cell_type": "code",
   "execution_count": 50,
   "metadata": {},
   "outputs": [],
   "source": [
    "X = df.drop([\"rank\"], axis=1)\n",
    "y = df[\"rank\"]"
   ]
  },
  {
   "cell_type": "markdown",
   "metadata": {},
   "source": [
    "### Curva explained_variance_ratio  (n_components = 15)"
   ]
  },
  {
   "cell_type": "code",
   "execution_count": 51,
   "metadata": {},
   "outputs": [
    {
     "data": {
      "text/plain": [
       "Text(0, 0.5, 'cumulative explained variance')"
      ]
     },
     "execution_count": 51,
     "metadata": {},
     "output_type": "execute_result"
    },
    {
     "data": {
      "image/png": "[encoded data removed]",
      "text/plain": [
       "<Figure size 432x288 with 1 Axes>"
      ]
     },
     "metadata": {
      "needs_background": "light"
     },
     "output_type": "display_data"
    }
   ],
   "source": [
    "pca = PCA().fit(X)\n",
    "plt.plot(np.cumsum(pca.explained_variance_ratio_))\n",
    "plt.xlabel('number of components')\n",
    "plt.ylabel('cumulative explained variance')"
   ]
  },
  {
   "cell_type": "code",
   "execution_count": 62,
   "metadata": {},
   "outputs": [],
   "source": [
    "ncomp = 22\n",
    "pca = PCA(n_components=ncomp)\n",
    "pca.fit(X)\n",
    "X_pca = pca.transform(X)\n",
    "\n",
    "X_train, X_test, y_train, y_test = train_test_split(X,y, test_size=0.3, shuffle=True)"
   ]
  },
  {
   "cell_type": "code",
   "execution_count": 63,
   "metadata": {},
   "outputs": [
    {
     "name": "stdout",
     "output_type": "stream",
     "text": [
      "    Test Accuracy\n",
      "\n",
      "Knn: 0.921\n",
      "Knn PCA: 0.895\n",
      "Tree: 1.000\n",
      "Tree PCA: 0.876\n",
      "SGDR: 0.877\n",
      "SGDR PCA: 0.793\n",
      "\n",
      "Regression with best accuracy:  Tree\n"
     ]
    }
   ],
   "source": [
    "ncomp = 10\n",
    "pknn = Pipeline([('scl', StandardScaler()), ('rgs', KNeighborsClassifier(n_neighbors=3))])\n",
    "pknnpca = Pipeline([('scl', StandardScaler()),('pca', PCA(n_components=ncomp)), ('rgs', KNeighborsClassifier(n_neighbors=3))])\n",
    "ptree = Pipeline([('scl', StandardScaler()), ('rgs', DecisionTreeClassifier())])\n",
    "psgdr = Pipeline([('scl', StandardScaler()), ('rgs', SGDClassifier())])\n",
    "ptreepca = Pipeline([('scl', StandardScaler()),('pca', PCA(n_components=ncomp)), ('rgs', DecisionTreeClassifier())])\n",
    "psgdrpca = Pipeline([('scl', StandardScaler()),('pca', PCA(n_components=ncomp)), ('rgs', SGDClassifier())])\n",
    "\n",
    "pipelines = [pknn, pknnpca, ptree,ptreepca, psgdr, psgdrpca]\n",
    "\n",
    "pipe_names = {0:\"Knn\", 1:\"Knn PCA\", 2:\"Tree\", 3:\"Tree PCA\", 4:\"SGDR\", 5:\"SGDR PCA\"}\n",
    "\n",
    "for pipe in pipelines:\n",
    "    pipe.fit(X_train, y_train)\n",
    "\n",
    "print(\"    Test Accuracy\\n\")\n",
    "scores = []\n",
    "for idx, val in enumerate(pipelines):\n",
    "    sc = val.score(X_test, y_test)\n",
    "    scores.append(sc)\n",
    "    print(\"%s: %.3f\" % (pipe_names[idx], sc))\n",
    "    \n",
    "max_ind = scores.index(max(scores))\n",
    "print(\"\\nRegression with best accuracy: \", pipe_names[max_ind])"
   ]
  },
  {
   "cell_type": "code",
   "execution_count": 54,
   "metadata": {},
   "outputs": [
    {
     "name": "stderr",
     "output_type": "stream",
     "text": [
      "/home/gykimura/miniconda3/envs/boticario/lib/python3.7/site-packages/sklearn/model_selection/_split.py:1978: FutureWarning: The default value of cv will change from 3 to 5 in version 0.22. Specify it explicitly to silence this warning.\n",
      "  warnings.warn(CV_WARNING, FutureWarning)\n"
     ]
    },
    {
     "name": "stdout",
     "output_type": "stream",
     "text": [
      "{'pca__n_components': 26}\n"
     ]
    },
    {
     "name": "stderr",
     "output_type": "stream",
     "text": [
      "/home/gykimura/miniconda3/envs/boticario/lib/python3.7/site-packages/sklearn/model_selection/_split.py:1978: FutureWarning: The default value of cv will change from 3 to 5 in version 0.22. Specify it explicitly to silence this warning.\n",
      "  warnings.warn(CV_WARNING, FutureWarning)\n"
     ]
    },
    {
     "name": "stdout",
     "output_type": "stream",
     "text": [
      "{'pca__n_components': 26}\n"
     ]
    },
    {
     "name": "stderr",
     "output_type": "stream",
     "text": [
      "/home/gykimura/miniconda3/envs/boticario/lib/python3.7/site-packages/sklearn/model_selection/_split.py:1978: FutureWarning: The default value of cv will change from 3 to 5 in version 0.22. Specify it explicitly to silence this warning.\n",
      "  warnings.warn(CV_WARNING, FutureWarning)\n"
     ]
    },
    {
     "name": "stdout",
     "output_type": "stream",
     "text": [
      "{'pca__n_components': 26}\n"
     ]
    }
   ],
   "source": [
    "pknnpca = Pipeline([('scl', StandardScaler()),('pca', PCA()), ('rgs', KNeighborsClassifier(n_neighbors=3))])\n",
    "ptreepca = Pipeline([('scl', StandardScaler()),('pca', PCA()), ('rgs', DecisionTreeClassifier())])\n",
    "psgdrpca = Pipeline([('scl', StandardScaler()),('pca', PCA()), ('rgs', SGDClassifier())])\n",
    "\n",
    "pipelines = [pknnpca, ptreepca, psgdrpca]\n",
    "\n",
    "pipe_names = {0:\"Knn PCA\", 1:\"Tree PCA\", 2:\"SGDR PCA\"}\n",
    "\n",
    "param_dict = {\"pca__n_components\":[10, 26]}\n",
    "\n",
    "for pipe in pipelines:\n",
    "    estimator = GridSearchCV(pipe, param_dict)\n",
    "    #pipe.fit(X_train, y_train)\n",
    "    estimator.fit(X_train, y_train)\n",
    "    print(estimator.best_params_)"
   ]
  },
  {
   "cell_type": "markdown",
   "metadata": {},
   "source": [
    "#### Resultados\n",
    "* Aplicando o GridSearch no parâmetro de número de componentes do PCA, é obtido como melhor valor o número máximo de atributos n_components = 26.\n",
    "\n",
    "* Neste caso, um número muito menor de atributos influencia na acurácia final do problema. Acurácia com cerca de 10% abaixo à utilização da técnica sem aplicar o PCA."
   ]
  }
 ],
 "metadata": {
  "kernelspec": {
   "display_name": "Python [conda env:boticario] *",
   "language": "python",
   "name": "conda-env-boticario-py"
  },
  "language_info": {
   "codemirror_mode": {
    "name": "ipython",
    "version": 3
   },
   "file_extension": ".py",
   "mimetype": "text/x-python",
   "name": "python",
   "nbconvert_exporter": "python",
   "pygments_lexer": "ipython3",
   "version": "3.7.4"
  }
 },
 "nbformat": 4,
 "nbformat_minor": 2
}
