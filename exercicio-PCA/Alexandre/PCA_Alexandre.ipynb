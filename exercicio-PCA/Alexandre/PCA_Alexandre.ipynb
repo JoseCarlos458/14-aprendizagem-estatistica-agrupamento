{
 "cells": [
  {
   "cell_type": "markdown",
   "metadata": {},
   "source": [
    "# Exercício - PCA\n",
    "### Autor: Alexandre Marcondes\n",
    "\n",
    "\n",
    "* Refaça a analise do exercicio de classificacao supervisionada, incluindo o PCA.\n",
    "* Plote a curva explained_variance_ratio para encontrar uma quantidade de componentes que explique perto de 90% da variancia\n",
    "---"
   ]
  },
  {
   "cell_type": "markdown",
   "metadata": {},
   "source": [
    "### Bibliotecas"
   ]
  },
  {
   "cell_type": "code",
   "execution_count": 1,
   "metadata": {},
   "outputs": [],
   "source": [
    "# Bibliotecas\n",
    "import numpy as np\n",
    "import matplotlib.pyplot as plt\n",
    "from sklearn.datasets import make_classification\n",
    "import seaborn as sns\n",
    "\n",
    "from sklearn import preprocessing\n",
    "from sklearn.metrics import confusion_matrix, precision_score, recall_score, f1_score, roc_curve, roc_auc_score, classification_report\n",
    "\n",
    "from sklearn.linear_model import LogisticRegression\n",
    "\n",
    "from sklearn.naive_bayes import GaussianNB\n",
    "\n",
    "#Classificadores Lineares\n",
    "from sklearn.linear_model import SGDClassifier\n",
    "from sklearn.linear_model import RidgeClassifier\n",
    "from sklearn.linear_model import LogisticRegression\n",
    "\n",
    "#Classificadores KNN\n",
    "from sklearn.neighbors import KNeighborsClassifier\n",
    "\n",
    "#Classificadores Naive Nayes\n",
    "from sklearn.naive_bayes import MultinomialNB\n",
    "\n",
    "#Classificadores Arvores de Decisão\n",
    "from sklearn.tree import DecisionTreeClassifier\n",
    "\n",
    "#SVM\n",
    "from sklearn.svm import SVC\n",
    "\n",
    "from sklearn.model_selection import train_test_split\n",
    "\n",
    "from sklearn import preprocessing\n",
    "from sklearn.metrics import confusion_matrix, precision_score, recall_score, f1_score, roc_curve, roc_auc_score, classification_report\n",
    "\n",
    "from sklearn.preprocessing import StandardScaler\n",
    "\n",
    "import pandas as pd\n",
    "import numpy as np\n",
    "\n",
    "import matplotlib.pyplot as plt\n",
    "import math\n",
    "\n",
    "from sklearn import linear_model\n",
    "from scipy.special import expit\n",
    "\n",
    "from sklearn.metrics import confusion_matrix\n",
    "import scipy\n",
    "from scipy.io import arff\n",
    "\n",
    "import numpy as np\n",
    "from sklearn.datasets import fetch_olivetti_faces\n",
    "from sklearn.svm import SVC\n",
    "#from sklearn.cross_validation import train_test_split\n",
    "from sklearn.preprocessing import StandardScaler\n",
    "from sklearn.pipeline import Pipeline\n",
    "from sklearn.metrics import accuracy_score\n",
    "from sklearn.pipeline import Pipeline, FeatureUnion, make_pipeline\n",
    "# from sklearn.externals import joblib\n",
    "\n",
    "from sklearn.model_selection import GridSearchCV, RandomizedSearchCV\n",
    "from sklearn.model_selection import KFold, cross_val_score, LeaveOneOut\n",
    "from sklearn.cluster import KMeans"
   ]
  },
  {
   "cell_type": "markdown",
   "metadata": {},
   "source": [
    "### Dados"
   ]
  },
  {
   "cell_type": "code",
   "execution_count": 2,
   "metadata": {},
   "outputs": [
    {
     "data": {
      "text/plain": [
       "Index(['id_vei', 'id_uo_vei', 'id_motorista', 'id_uo_motorista',\n",
       "       'distancia_percorrida_km', 'qtd_banguela', 'qtd_curvas',\n",
       "       'qtd_aceleracoes', 'qtd_frenagens', 'qtd_vel_faixa_1',\n",
       "       'qtd_vel_faixa_2', 'qtd_vel_faixa_3', 'tempo_vel_faixa_1',\n",
       "       'tempo_vel_faixa_2', 'tempo_vel_faixa_3', 'qtd_vel_via_faixa_1',\n",
       "       'qtd_vel_via_faixa_2', 'qtd_vel_via_faixa_3', 'tempo_vel_via_faixa_1',\n",
       "       'tempo_vel_via_faixa_2', 'tempo_vel_via_faixa_3',\n",
       "       'qtd_manuseio_celular', 'qtd_fadiga_motorista',\n",
       "       'qtd_distracao_motorista', 'qtd_uso_cigarro', 'score_geral', 'rank'],\n",
       "      dtype='object')"
      ]
     },
     "execution_count": 2,
     "metadata": {},
     "output_type": "execute_result"
    }
   ],
   "source": [
    "drivers = pd.read_csv('vigencias_scores.csv')\n",
    "drivers.columns"
   ]
  },
  {
   "cell_type": "code",
   "execution_count": 3,
   "metadata": {},
   "outputs": [
    {
     "data": {
      "text/plain": [
       "(12642, 22)"
      ]
     },
     "execution_count": 3,
     "metadata": {},
     "output_type": "execute_result"
    }
   ],
   "source": [
    "drivers = drivers.drop(['id_uo_vei','id_vei','id_uo_motorista','id_motorista','score_geral'],axis=1)\n",
    "drivers.shape"
   ]
  },
  {
   "cell_type": "code",
   "execution_count": 4,
   "metadata": {},
   "outputs": [
    {
     "data": {
      "text/html": [
       "<div>\n",
       "<style scoped>\n",
       "    .dataframe tbody tr th:only-of-type {\n",
       "        vertical-align: middle;\n",
       "    }\n",
       "\n",
       "    .dataframe tbody tr th {\n",
       "        vertical-align: top;\n",
       "    }\n",
       "\n",
       "    .dataframe thead th {\n",
       "        text-align: right;\n",
       "    }\n",
       "</style>\n",
       "<table border=\"1\" class=\"dataframe\">\n",
       "  <thead>\n",
       "    <tr style=\"text-align: right;\">\n",
       "      <th></th>\n",
       "      <th>distancia_percorrida_km</th>\n",
       "      <th>qtd_banguela</th>\n",
       "      <th>qtd_curvas</th>\n",
       "      <th>qtd_aceleracoes</th>\n",
       "      <th>qtd_frenagens</th>\n",
       "      <th>qtd_vel_faixa_1</th>\n",
       "      <th>qtd_vel_faixa_2</th>\n",
       "      <th>qtd_vel_faixa_3</th>\n",
       "      <th>tempo_vel_faixa_1</th>\n",
       "      <th>tempo_vel_faixa_2</th>\n",
       "      <th>...</th>\n",
       "      <th>qtd_vel_via_faixa_2</th>\n",
       "      <th>qtd_vel_via_faixa_3</th>\n",
       "      <th>tempo_vel_via_faixa_1</th>\n",
       "      <th>tempo_vel_via_faixa_2</th>\n",
       "      <th>tempo_vel_via_faixa_3</th>\n",
       "      <th>qtd_manuseio_celular</th>\n",
       "      <th>qtd_fadiga_motorista</th>\n",
       "      <th>qtd_distracao_motorista</th>\n",
       "      <th>qtd_uso_cigarro</th>\n",
       "      <th>rank</th>\n",
       "    </tr>\n",
       "  </thead>\n",
       "  <tbody>\n",
       "    <tr>\n",
       "      <th>0</th>\n",
       "      <td>234.420</td>\n",
       "      <td>0.0</td>\n",
       "      <td>0.0</td>\n",
       "      <td>0.0</td>\n",
       "      <td>0.0</td>\n",
       "      <td>0.0</td>\n",
       "      <td>0.0</td>\n",
       "      <td>0.0</td>\n",
       "      <td>0.0</td>\n",
       "      <td>0.0</td>\n",
       "      <td>...</td>\n",
       "      <td>0.0</td>\n",
       "      <td>1.0</td>\n",
       "      <td>208.0</td>\n",
       "      <td>0.0</td>\n",
       "      <td>1456.0</td>\n",
       "      <td>0.0</td>\n",
       "      <td>0.0</td>\n",
       "      <td>0.0</td>\n",
       "      <td>0.0</td>\n",
       "      <td>ruim</td>\n",
       "    </tr>\n",
       "    <tr>\n",
       "      <th>1</th>\n",
       "      <td>114.083</td>\n",
       "      <td>0.0</td>\n",
       "      <td>0.0</td>\n",
       "      <td>0.0</td>\n",
       "      <td>4.0</td>\n",
       "      <td>0.0</td>\n",
       "      <td>0.0</td>\n",
       "      <td>0.0</td>\n",
       "      <td>0.0</td>\n",
       "      <td>0.0</td>\n",
       "      <td>...</td>\n",
       "      <td>0.0</td>\n",
       "      <td>0.0</td>\n",
       "      <td>0.0</td>\n",
       "      <td>0.0</td>\n",
       "      <td>0.0</td>\n",
       "      <td>0.0</td>\n",
       "      <td>0.0</td>\n",
       "      <td>0.0</td>\n",
       "      <td>0.0</td>\n",
       "      <td>regular</td>\n",
       "    </tr>\n",
       "    <tr>\n",
       "      <th>2</th>\n",
       "      <td>183.725</td>\n",
       "      <td>0.0</td>\n",
       "      <td>0.0</td>\n",
       "      <td>0.0</td>\n",
       "      <td>0.0</td>\n",
       "      <td>0.0</td>\n",
       "      <td>0.0</td>\n",
       "      <td>0.0</td>\n",
       "      <td>0.0</td>\n",
       "      <td>0.0</td>\n",
       "      <td>...</td>\n",
       "      <td>0.0</td>\n",
       "      <td>0.0</td>\n",
       "      <td>0.0</td>\n",
       "      <td>0.0</td>\n",
       "      <td>0.0</td>\n",
       "      <td>0.0</td>\n",
       "      <td>0.0</td>\n",
       "      <td>0.0</td>\n",
       "      <td>0.0</td>\n",
       "      <td>otimo</td>\n",
       "    </tr>\n",
       "    <tr>\n",
       "      <th>3</th>\n",
       "      <td>702.525</td>\n",
       "      <td>0.0</td>\n",
       "      <td>0.0</td>\n",
       "      <td>0.0</td>\n",
       "      <td>3.0</td>\n",
       "      <td>0.0</td>\n",
       "      <td>0.0</td>\n",
       "      <td>0.0</td>\n",
       "      <td>0.0</td>\n",
       "      <td>0.0</td>\n",
       "      <td>...</td>\n",
       "      <td>0.0</td>\n",
       "      <td>1.0</td>\n",
       "      <td>0.0</td>\n",
       "      <td>0.0</td>\n",
       "      <td>0.0</td>\n",
       "      <td>0.0</td>\n",
       "      <td>0.0</td>\n",
       "      <td>0.0</td>\n",
       "      <td>0.0</td>\n",
       "      <td>otimo</td>\n",
       "    </tr>\n",
       "    <tr>\n",
       "      <th>4</th>\n",
       "      <td>175.290</td>\n",
       "      <td>0.0</td>\n",
       "      <td>0.0</td>\n",
       "      <td>1.0</td>\n",
       "      <td>3.0</td>\n",
       "      <td>0.0</td>\n",
       "      <td>0.0</td>\n",
       "      <td>0.0</td>\n",
       "      <td>0.0</td>\n",
       "      <td>0.0</td>\n",
       "      <td>...</td>\n",
       "      <td>2.0</td>\n",
       "      <td>1.0</td>\n",
       "      <td>0.0</td>\n",
       "      <td>0.0</td>\n",
       "      <td>0.0</td>\n",
       "      <td>0.0</td>\n",
       "      <td>0.0</td>\n",
       "      <td>0.0</td>\n",
       "      <td>0.0</td>\n",
       "      <td>bom</td>\n",
       "    </tr>\n",
       "  </tbody>\n",
       "</table>\n",
       "<p>5 rows × 22 columns</p>\n",
       "</div>"
      ],
      "text/plain": [
       "   distancia_percorrida_km  qtd_banguela  qtd_curvas  qtd_aceleracoes  \\\n",
       "0                  234.420           0.0         0.0              0.0   \n",
       "1                  114.083           0.0         0.0              0.0   \n",
       "2                  183.725           0.0         0.0              0.0   \n",
       "3                  702.525           0.0         0.0              0.0   \n",
       "4                  175.290           0.0         0.0              1.0   \n",
       "\n",
       "   qtd_frenagens  qtd_vel_faixa_1  qtd_vel_faixa_2  qtd_vel_faixa_3  \\\n",
       "0            0.0              0.0              0.0              0.0   \n",
       "1            4.0              0.0              0.0              0.0   \n",
       "2            0.0              0.0              0.0              0.0   \n",
       "3            3.0              0.0              0.0              0.0   \n",
       "4            3.0              0.0              0.0              0.0   \n",
       "\n",
       "   tempo_vel_faixa_1  tempo_vel_faixa_2  ...  qtd_vel_via_faixa_2  \\\n",
       "0                0.0                0.0  ...                  0.0   \n",
       "1                0.0                0.0  ...                  0.0   \n",
       "2                0.0                0.0  ...                  0.0   \n",
       "3                0.0                0.0  ...                  0.0   \n",
       "4                0.0                0.0  ...                  2.0   \n",
       "\n",
       "   qtd_vel_via_faixa_3  tempo_vel_via_faixa_1  tempo_vel_via_faixa_2  \\\n",
       "0                  1.0                  208.0                    0.0   \n",
       "1                  0.0                    0.0                    0.0   \n",
       "2                  0.0                    0.0                    0.0   \n",
       "3                  1.0                    0.0                    0.0   \n",
       "4                  1.0                    0.0                    0.0   \n",
       "\n",
       "   tempo_vel_via_faixa_3  qtd_manuseio_celular  qtd_fadiga_motorista  \\\n",
       "0                 1456.0                   0.0                   0.0   \n",
       "1                    0.0                   0.0                   0.0   \n",
       "2                    0.0                   0.0                   0.0   \n",
       "3                    0.0                   0.0                   0.0   \n",
       "4                    0.0                   0.0                   0.0   \n",
       "\n",
       "   qtd_distracao_motorista  qtd_uso_cigarro     rank  \n",
       "0                      0.0              0.0     ruim  \n",
       "1                      0.0              0.0  regular  \n",
       "2                      0.0              0.0    otimo  \n",
       "3                      0.0              0.0    otimo  \n",
       "4                      0.0              0.0      bom  \n",
       "\n",
       "[5 rows x 22 columns]"
      ]
     },
     "execution_count": 4,
     "metadata": {},
     "output_type": "execute_result"
    }
   ],
   "source": [
    "drivers.head()"
   ]
  },
  {
   "cell_type": "code",
   "execution_count": 5,
   "metadata": {},
   "outputs": [
    {
     "name": "stdout",
     "output_type": "stream",
     "text": [
      "(12642,)\n",
      "(12642, 21)\n"
     ]
    }
   ],
   "source": [
    "y = drivers.loc[:,'rank']\n",
    "X = drivers.drop(['rank'],axis=1)\n",
    "print(y.shape)\n",
    "print(X.shape)"
   ]
  },
  {
   "cell_type": "markdown",
   "metadata": {},
   "source": [
    "### Classificação utilizando Kmeans"
   ]
  },
  {
   "cell_type": "code",
   "execution_count": 6,
   "metadata": {},
   "outputs": [
    {
     "name": "stdout",
     "output_type": "stream",
     "text": [
      "[[  97   79    1   13    3]\n",
      " [  24 1526    0    1    1]\n",
      " [   4    0   15    5   98]\n",
      " [  37   34    3   87   19]\n",
      " [  17    7   32   23  403]]\n",
      "              precision    recall  f1-score   support\n",
      "\n",
      "         bom       0.54      0.50      0.52       193\n",
      "       otimo       0.93      0.98      0.95      1552\n",
      "     pessimo       0.29      0.12      0.17       122\n",
      "     regular       0.67      0.48      0.56       180\n",
      "        ruim       0.77      0.84      0.80       482\n",
      "\n",
      "    accuracy                           0.84      2529\n",
      "   macro avg       0.64      0.59      0.60      2529\n",
      "weighted avg       0.82      0.84      0.83      2529\n",
      "\n"
     ]
    }
   ],
   "source": [
    "X_train, X_test, y_train, y_test = train_test_split(X,y, test_size=0.2)\n",
    "\n",
    "knn_clf = KNeighborsClassifier(n_neighbors=5)\n",
    "\n",
    "knn_clf.fit(X_train, y_train)\n",
    "\n",
    "y_pred = knn_clf.predict(X_test)\n",
    "\n",
    "cm = confusion_matrix(y_test, y_pred)\n",
    "\n",
    "print(cm)\n",
    "print(classification_report(y_test, y_pred))"
   ]
  },
  {
   "cell_type": "markdown",
   "metadata": {},
   "source": [
    "### Classificação com PCA + KNN"
   ]
  },
  {
   "cell_type": "code",
   "execution_count": 7,
   "metadata": {},
   "outputs": [
    {
     "name": "stdout",
     "output_type": "stream",
     "text": [
      "[[  86   83    2   17    7]\n",
      " [  27 1535    0    5    0]\n",
      " [   1    1   16    8  102]\n",
      " [  41   95    3   40   17]\n",
      " [  17    3   32   26  365]]\n",
      "              precision    recall  f1-score   support\n",
      "\n",
      "         bom       0.50      0.44      0.47       195\n",
      "       otimo       0.89      0.98      0.93      1567\n",
      "     pessimo       0.30      0.12      0.18       128\n",
      "     regular       0.42      0.20      0.27       196\n",
      "        ruim       0.74      0.82      0.78       443\n",
      "\n",
      "    accuracy                           0.81      2529\n",
      "   macro avg       0.57      0.51      0.53      2529\n",
      "weighted avg       0.77      0.81      0.78      2529\n",
      "\n"
     ]
    }
   ],
   "source": [
    "from sklearn.decomposition import PCA\n",
    "\n",
    "pca = PCA(8)\n",
    "pca.fit(X)\n",
    "XPCA = pca.transform(X)\n",
    "\n",
    "X_train, X_test, y_train, y_test = train_test_split(XPCA,y, test_size=0.2)\n",
    "\n",
    "knn_clf = KNeighborsClassifier(n_neighbors=5)\n",
    "\n",
    "knn_clf.fit(X_train, y_train)\n",
    "\n",
    "y_pred = knn_clf.predict(X_test)\n",
    "\n",
    "cm = confusion_matrix(y_test, y_pred)\n",
    "\n",
    "print(cm)\n",
    "print(classification_report(y_test, y_pred))"
   ]
  },
  {
   "cell_type": "markdown",
   "metadata": {},
   "source": [
    "### Classificação utilizando PCA + Decision Tree"
   ]
  },
  {
   "cell_type": "code",
   "execution_count": 52,
   "metadata": {},
   "outputs": [
    {
     "name": "stdout",
     "output_type": "stream",
     "text": [
      "[[  70   62    3   26   17]\n",
      " [  62 1450    0   31    4]\n",
      " [   2    0   58    7   65]\n",
      " [  45   32    6  101   26]\n",
      " [  12    4   48   34  364]]\n",
      "              precision    recall  f1-score   support\n",
      "\n",
      "         bom       0.37      0.39      0.38       178\n",
      "       otimo       0.94      0.94      0.94      1547\n",
      "     pessimo       0.50      0.44      0.47       132\n",
      "     regular       0.51      0.48      0.49       210\n",
      "        ruim       0.76      0.79      0.78       462\n",
      "\n",
      "    accuracy                           0.81      2529\n",
      "   macro avg       0.62      0.61      0.61      2529\n",
      "weighted avg       0.81      0.81      0.81      2529\n",
      "\n"
     ]
    }
   ],
   "source": [
    "pca = PCA(8)\n",
    "pca.fit(X)\n",
    "XPCA = pca.transform(X)\n",
    "\n",
    "X_train, X_test, y_train, y_test = train_test_split(XPCA,y, test_size=0.2)\n",
    "\n",
    "tree_clf = DecisionTreeClassifier(random_state=0)\n",
    "\n",
    "tree_clf.fit(X_train, y_train)\n",
    "\n",
    "y_pred = tree_clf.predict(X_test)\n",
    "\n",
    "cm = confusion_matrix(y_test, y_pred)\n",
    "\n",
    "print(cm)\n",
    "print(classification_report(y_test, y_pred))"
   ]
  },
  {
   "cell_type": "code",
   "execution_count": 53,
   "metadata": {},
   "outputs": [
    {
     "name": "stdout",
     "output_type": "stream",
     "text": [
      "Acurácia do dataset de treino: 0.9997033521210323\n",
      "Acurácia do dataset de teste: 0.8078291814946619\n"
     ]
    }
   ],
   "source": [
    "print('Acurácia do dataset de treino:', accuracy_score(y_train, tree_clf.predict(X_train)))\n",
    "print('Acurácia do dataset de teste:', accuracy_score(y_test, y_pred))"
   ]
  },
  {
   "cell_type": "markdown",
   "metadata": {},
   "source": [
    "A diferença da acurácia entre o dataset de treino e teste indica overfitting.\n",
    "\n",
    "Uma validação cruzada seria útil, além de uma escolha melhor de hiperparâmetros."
   ]
  },
  {
   "cell_type": "markdown",
   "metadata": {},
   "source": [
    "### Curva de variância"
   ]
  },
  {
   "cell_type": "code",
   "execution_count": 31,
   "metadata": {},
   "outputs": [
    {
     "data": {
      "image/png": "[encoded data removed]",
      "text/plain": [
       "<Figure size 432x288 with 1 Axes>"
      ]
     },
     "metadata": {
      "needs_background": "light"
     },
     "output_type": "display_data"
    }
   ],
   "source": [
    "pca = PCA().fit(drivers.drop(['rank'],axis=1))\n",
    "plt.plot(np.cumsum(pca.explained_variance_ratio_))\n",
    "plt.xlabel('number of components')\n",
    "plt.ylabel('cumulative explained variance');"
   ]
  },
  {
   "cell_type": "markdown",
   "metadata": {},
   "source": [
    "O número de features é aproximadamente 8. Mais features podem ser utilizadas, porém não terá tanta influência na acurácia obtida pelo modelo."
   ]
  },
  {
   "cell_type": "markdown",
   "metadata": {},
   "source": [
    "### Criação de pipelines com PCA\n",
    "---"
   ]
  },
  {
   "cell_type": "markdown",
   "metadata": {},
   "source": [
    "### Pipeline - PCA com Decision Tree"
   ]
  },
  {
   "cell_type": "code",
   "execution_count": 55,
   "metadata": {},
   "outputs": [
    {
     "name": "stdout",
     "output_type": "stream",
     "text": [
      "Fitting 5 folds for each of 1200 candidates, totalling 6000 fits\n"
     ]
    },
    {
     "name": "stderr",
     "output_type": "stream",
     "text": [
      "[Parallel(n_jobs=-1)]: Using backend LokyBackend with 12 concurrent workers.\n",
      "[Parallel(n_jobs=-1)]: Done  17 tasks      | elapsed:    1.8s\n",
      "[Parallel(n_jobs=-1)]: Done 360 tasks      | elapsed:    2.9s\n",
      "[Parallel(n_jobs=-1)]: Done 1025 tasks      | elapsed:    9.8s\n",
      "[Parallel(n_jobs=-1)]: Done 1308 tasks      | elapsed:   13.8s\n",
      "[Parallel(n_jobs=-1)]: Done 1673 tasks      | elapsed:   19.9s\n",
      "[Parallel(n_jobs=-1)]: Done 2118 tasks      | elapsed:   28.4s\n",
      "[Parallel(n_jobs=-1)]: Done 2645 tasks      | elapsed:   40.1s\n",
      "[Parallel(n_jobs=-1)]: Done 3252 tasks      | elapsed:   57.5s\n",
      "[Parallel(n_jobs=-1)]: Done 3941 tasks      | elapsed:  1.3min\n",
      "[Parallel(n_jobs=-1)]: Done 4710 tasks      | elapsed:  1.7min\n",
      "[Parallel(n_jobs=-1)]: Done 5561 tasks      | elapsed:  2.3min\n",
      "[Parallel(n_jobs=-1)]: Done 6000 out of 6000 | elapsed:  2.6min finished\n"
     ]
    },
    {
     "name": "stdout",
     "output_type": "stream",
     "text": [
      "Best Criterion: entropy\n",
      "Best max_depth: 17\n",
      "Best Number Of Components: 14\n",
      "Mean cross-validated score of the best_estimator: 0.9014678151374108\n"
     ]
    }
   ],
   "source": [
    "#  Divisão em dataset de treino e teste\n",
    "X_train, X_test, y_train, y_test = train_test_split(X,y, test_size=0.1)\n",
    "\n",
    "pca = PCA()\n",
    "tree = DecisionTreeClassifier(random_state=0)\n",
    "\n",
    "# Criação da pipeline\n",
    "pipe_tree = Pipeline(steps=[('pca', pca),  # Redução de dimensão\n",
    "                            ('tree', tree)  # Algoritmo classificador\n",
    "                           ],\n",
    "                     verbose=False\n",
    "                    )\n",
    "\n",
    "#  Fit do modelo com a pipeline criada\n",
    "# pipe_tree.fit(X_train,y_train)\n",
    "#  Predição do modelo\n",
    "# y_pred = pipe_tree.predict(X_test)\n",
    "\n",
    "#  Grid search\n",
    "tree_criterion_list = ['gini','entropy']\n",
    "tree_depth_list = list(range(0,40))\n",
    "pca_components_list = list(range(0,15))\n",
    "\n",
    "params = {'pca__n_components':pca_components_list,\n",
    "          'tree__criterion':tree_criterion_list,\n",
    "          'tree__max_depth':tree_depth_list}\n",
    "\n",
    "clf = GridSearchCV(estimator=pipe_tree,\n",
    "                   param_grid=params,\n",
    "                   verbose=2,\n",
    "                   n_jobs=-1,\n",
    "                   scoring= 'accuracy',\n",
    "                   return_train_score=True)\n",
    "\n",
    "clf.fit(X_train,y_train)\n",
    "\n",
    "print('Best Criterion:', clf.best_estimator_.get_params()['tree__criterion'])\n",
    "print('Best max_depth:', clf.best_estimator_.get_params()['tree__max_depth'])\n",
    "print('Best Number Of Components:', clf.best_estimator_.get_params()['pca__n_components'])\n",
    "print('Mean cross-validated score of the best_estimator:', clf.best_score_)"
   ]
  },
  {
   "cell_type": "code",
   "execution_count": 57,
   "metadata": {},
   "outputs": [
    {
     "name": "stdout",
     "output_type": "stream",
     "text": [
      "[[ 84   7   0  15   4]\n",
      " [ 11 730   0   3   1]\n",
      " [  0   0  42   8  11]\n",
      " [ 11   6   2  65   9]\n",
      " [  3   2  11  15 225]]\n",
      "              precision    recall  f1-score   support\n",
      "\n",
      "         bom       0.77      0.76      0.77       110\n",
      "       otimo       0.98      0.98      0.98       745\n",
      "     pessimo       0.76      0.69      0.72        61\n",
      "     regular       0.61      0.70      0.65        93\n",
      "        ruim       0.90      0.88      0.89       256\n",
      "\n",
      "    accuracy                           0.91      1265\n",
      "   macro avg       0.81      0.80      0.80      1265\n",
      "weighted avg       0.91      0.91      0.91      1265\n",
      "\n"
     ]
    }
   ],
   "source": [
    "y_pred = clf.predict(X_test)\n",
    "#  Exibição dos resultados\n",
    "cm = confusion_matrix(y_test, y_pred)\n",
    "print(cm)\n",
    "print(classification_report(y_test, y_pred))"
   ]
  },
  {
   "cell_type": "markdown",
   "metadata": {},
   "source": [
    "### Pipeline - PCA com Random Forest"
   ]
  },
  {
   "cell_type": "code",
   "execution_count": 43,
   "metadata": {},
   "outputs": [
    {
     "name": "stdout",
     "output_type": "stream",
     "text": [
      "Fitting 5 folds for each of 4800 candidates, totalling 24000 fits\n"
     ]
    },
    {
     "name": "stderr",
     "output_type": "stream",
     "text": [
      "[Parallel(n_jobs=-1)]: Using backend LokyBackend with 12 concurrent workers.\n",
      "[Parallel(n_jobs=-1)]: Done  17 tasks      | elapsed:    1.9s\n",
      "[Parallel(n_jobs=-1)]: Done 138 tasks      | elapsed:    3.2s\n",
      "[Parallel(n_jobs=-1)]: Done 341 tasks      | elapsed:    5.5s\n",
      "[Parallel(n_jobs=-1)]: Done 624 tasks      | elapsed:   14.7s\n",
      "[Parallel(n_jobs=-1)]: Done 989 tasks      | elapsed:   27.0s\n",
      "[Parallel(n_jobs=-1)]: Done 1434 tasks      | elapsed:   48.4s\n",
      "[Parallel(n_jobs=-1)]: Done 1961 tasks      | elapsed:  1.3min\n",
      "[Parallel(n_jobs=-1)]: Done 2568 tasks      | elapsed:  1.9min\n",
      "[Parallel(n_jobs=-1)]: Done 3257 tasks      | elapsed:  2.8min\n",
      "[Parallel(n_jobs=-1)]: Done 4026 tasks      | elapsed:  3.9min\n",
      "[Parallel(n_jobs=-1)]: Done 4877 tasks      | elapsed:  5.3min\n",
      "[Parallel(n_jobs=-1)]: Done 5808 tasks      | elapsed:  6.9min\n",
      "[Parallel(n_jobs=-1)]: Done 6821 tasks      | elapsed:  8.9min\n",
      "[Parallel(n_jobs=-1)]: Done 7914 tasks      | elapsed: 11.1min\n",
      "[Parallel(n_jobs=-1)]: Done 9089 tasks      | elapsed: 13.4min\n",
      "[Parallel(n_jobs=-1)]: Done 10344 tasks      | elapsed: 15.9min\n",
      "[Parallel(n_jobs=-1)]: Done 11681 tasks      | elapsed: 18.7min\n",
      "[Parallel(n_jobs=-1)]: Done 13230 tasks      | elapsed: 20.2min\n",
      "[Parallel(n_jobs=-1)]: Done 14729 tasks      | elapsed: 23.1min\n",
      "[Parallel(n_jobs=-1)]: Done 16308 tasks      | elapsed: 27.4min\n",
      "[Parallel(n_jobs=-1)]: Done 17969 tasks      | elapsed: 35.1min\n",
      "[Parallel(n_jobs=-1)]: Done 19710 tasks      | elapsed: 41.4min\n",
      "[Parallel(n_jobs=-1)]: Done 21533 tasks      | elapsed: 48.7min\n",
      "[Parallel(n_jobs=-1)]: Done 23436 tasks      | elapsed: 55.8min\n",
      "[Parallel(n_jobs=-1)]: Done 24000 out of 24000 | elapsed: 58.0min finished\n"
     ]
    },
    {
     "name": "stdout",
     "output_type": "stream",
     "text": [
      "Best Criterion: gini\n",
      "Best max_depth: 16\n",
      "Best number of estimators: 50\n",
      "Best Number Of Components: 14\n",
      "Mean cross-validated score of the best_estimator: 0.9264305606520018\n"
     ]
    }
   ],
   "source": [
    "from sklearn.ensemble import RandomForestClassifier\n",
    "\n",
    "#  Divisão em dataset de treino e teste\n",
    "X_train, X_test, y_train, y_test = train_test_split(X,y, test_size=0.1)\n",
    "\n",
    "pca = PCA()\n",
    "forest = RandomForestClassifier(random_state=0)\n",
    "\n",
    "# Criação da pipeline\n",
    "pipe_forest = Pipeline(steps=[('pca', pca),  # Redução de dimensão\n",
    "                            ('forest', forest)  # Algoritmo classificador\n",
    "                           ],\n",
    "                     verbose=False\n",
    "                    )\n",
    "\n",
    "#  Fit do modelo com a pipeline criada\n",
    "# pipe_tree.fit(X_train,y_train)\n",
    "#  Predição do modelo\n",
    "# y_pred = pipe_tree.predict(X_test)\n",
    "\n",
    "#  Grid search\n",
    "forest_criterion_list = ['gini','entropy']\n",
    "forest_estimators = list(range(0,100,25))\n",
    "forest_depth_list = list(range(0,40))\n",
    "pca_components_list = list(range(0,15))\n",
    "\n",
    "params = {'pca__n_components':pca_components_list,\n",
    "          'forest__criterion':forest_criterion_list,\n",
    "          'forest__max_depth':forest_depth_list,\n",
    "          'forest__n_estimators':forest_estimators}\n",
    "\n",
    "clf = GridSearchCV(estimator=pipe_forest,\n",
    "                   param_grid=params,\n",
    "                   verbose=2,\n",
    "                   n_jobs=-1,\n",
    "                   scoring= 'accuracy',\n",
    "                   return_train_score=True)\n",
    "\n",
    "clf.fit(X_train,y_train)\n",
    "\n",
    "print('Best Criterion:', clf.best_estimator_.get_params()['forest__criterion'])\n",
    "print('Best max_depth:', clf.best_estimator_.get_params()['forest__max_depth'])\n",
    "print('Best number of estimators:', clf.best_estimator_.get_params()['forest__n_estimators'])\n",
    "print('Best Number Of Components:', clf.best_estimator_.get_params()['pca__n_components'])\n",
    "print('Mean cross-validated score of the best_estimator:', clf.best_score_)"
   ]
  },
  {
   "cell_type": "code",
   "execution_count": 44,
   "metadata": {},
   "outputs": [
    {
     "name": "stdout",
     "output_type": "stream",
     "text": [
      "[[ 73  17   0  13   3]\n",
      " [ 10 748   0   0   0]\n",
      " [  0   0  43   2  17]\n",
      " [  8   1   0  80  16]\n",
      " [  0   1   5  10 218]]\n",
      "              precision    recall  f1-score   support\n",
      "\n",
      "         bom       0.80      0.69      0.74       106\n",
      "       otimo       0.98      0.99      0.98       758\n",
      "     pessimo       0.90      0.69      0.78        62\n",
      "     regular       0.76      0.76      0.76       105\n",
      "        ruim       0.86      0.93      0.89       234\n",
      "\n",
      "    accuracy                           0.92      1265\n",
      "   macro avg       0.86      0.81      0.83      1265\n",
      "weighted avg       0.92      0.92      0.92      1265\n",
      "\n"
     ]
    }
   ],
   "source": [
    "y_pred = clf.predict(X_test)\n",
    "#  Exibição dos resultados\n",
    "cm = confusion_matrix(y_test, y_pred)\n",
    "print(cm)\n",
    "print(classification_report(y_test, y_pred))"
   ]
  },
  {
   "cell_type": "markdown",
   "metadata": {},
   "source": [
    "### Resumo dos resultados"
   ]
  },
  {
   "cell_type": "markdown",
   "metadata": {},
   "source": [
    "* A acurácia do PCA + Decision Tree foi de 81% no dataset de teste, sem validação cruzada e otimização dos hiperparâmetros.\n",
    "* Com validação cruzada, a acurácia do PCA + Decision Tree foi aumentada para 90%.\n",
    "* Com PCA + Random Forest, utilizando validação cruzada e otimização parâmetros, a acurácia obtida foi de 92%."
   ]
  }
 ],
 "metadata": {
  "kernelspec": {
   "display_name": "Python 3",
   "language": "python",
   "name": "python3"
  },
  "language_info": {
   "codemirror_mode": {
    "name": "ipython",
    "version": 3
   },
   "file_extension": ".py",
   "mimetype": "text/x-python",
   "name": "python",
   "nbconvert_exporter": "python",
   "pygments_lexer": "ipython3",
   "version": "3.7.6"
  }
 },
 "nbformat": 4,
 "nbformat_minor": 4
}
